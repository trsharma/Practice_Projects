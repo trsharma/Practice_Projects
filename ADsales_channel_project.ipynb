{
 "cells": [
  {
   "cell_type": "code",
   "execution_count": 1,
   "id": "e408cf48",
   "metadata": {},
   "outputs": [],
   "source": [
    "import pandas as pd\n",
    "import numpy as np\n",
    "import seaborn as sns\n",
    "import matplotlib.pyplot as plt\n",
    "%matplotlib inline"
   ]
  },
  {
   "cell_type": "code",
   "execution_count": 2,
   "id": "85054dd1",
   "metadata": {},
   "outputs": [],
   "source": [
    "import warnings\n",
    "warnings.filterwarnings('ignore')"
   ]
  },
  {
   "cell_type": "code",
   "execution_count": 3,
   "id": "b3fe9aa7",
   "metadata": {},
   "outputs": [],
   "source": [
    "df= pd.read_csv('https://raw.githubusercontent.com/dsrscientist/DSData/master/Advertising.csv', index_col=0)"
   ]
  },
  {
   "cell_type": "code",
   "execution_count": 4,
   "id": "59474b69",
   "metadata": {},
   "outputs": [
    {
     "data": {
      "text/html": [
       "<div>\n",
       "<style scoped>\n",
       "    .dataframe tbody tr th:only-of-type {\n",
       "        vertical-align: middle;\n",
       "    }\n",
       "\n",
       "    .dataframe tbody tr th {\n",
       "        vertical-align: top;\n",
       "    }\n",
       "\n",
       "    .dataframe thead th {\n",
       "        text-align: right;\n",
       "    }\n",
       "</style>\n",
       "<table border=\"1\" class=\"dataframe\">\n",
       "  <thead>\n",
       "    <tr style=\"text-align: right;\">\n",
       "      <th></th>\n",
       "      <th>TV</th>\n",
       "      <th>radio</th>\n",
       "      <th>newspaper</th>\n",
       "      <th>sales</th>\n",
       "    </tr>\n",
       "  </thead>\n",
       "  <tbody>\n",
       "    <tr>\n",
       "      <th>1</th>\n",
       "      <td>230.1</td>\n",
       "      <td>37.8</td>\n",
       "      <td>69.2</td>\n",
       "      <td>22.1</td>\n",
       "    </tr>\n",
       "    <tr>\n",
       "      <th>2</th>\n",
       "      <td>44.5</td>\n",
       "      <td>39.3</td>\n",
       "      <td>45.1</td>\n",
       "      <td>10.4</td>\n",
       "    </tr>\n",
       "    <tr>\n",
       "      <th>3</th>\n",
       "      <td>17.2</td>\n",
       "      <td>45.9</td>\n",
       "      <td>69.3</td>\n",
       "      <td>9.3</td>\n",
       "    </tr>\n",
       "    <tr>\n",
       "      <th>4</th>\n",
       "      <td>151.5</td>\n",
       "      <td>41.3</td>\n",
       "      <td>58.5</td>\n",
       "      <td>18.5</td>\n",
       "    </tr>\n",
       "    <tr>\n",
       "      <th>5</th>\n",
       "      <td>180.8</td>\n",
       "      <td>10.8</td>\n",
       "      <td>58.4</td>\n",
       "      <td>12.9</td>\n",
       "    </tr>\n",
       "    <tr>\n",
       "      <th>6</th>\n",
       "      <td>8.7</td>\n",
       "      <td>48.9</td>\n",
       "      <td>75.0</td>\n",
       "      <td>7.2</td>\n",
       "    </tr>\n",
       "    <tr>\n",
       "      <th>7</th>\n",
       "      <td>57.5</td>\n",
       "      <td>32.8</td>\n",
       "      <td>23.5</td>\n",
       "      <td>11.8</td>\n",
       "    </tr>\n",
       "    <tr>\n",
       "      <th>8</th>\n",
       "      <td>120.2</td>\n",
       "      <td>19.6</td>\n",
       "      <td>11.6</td>\n",
       "      <td>13.2</td>\n",
       "    </tr>\n",
       "  </tbody>\n",
       "</table>\n",
       "</div>"
      ],
      "text/plain": [
       "      TV  radio  newspaper  sales\n",
       "1  230.1   37.8       69.2   22.1\n",
       "2   44.5   39.3       45.1   10.4\n",
       "3   17.2   45.9       69.3    9.3\n",
       "4  151.5   41.3       58.5   18.5\n",
       "5  180.8   10.8       58.4   12.9\n",
       "6    8.7   48.9       75.0    7.2\n",
       "7   57.5   32.8       23.5   11.8\n",
       "8  120.2   19.6       11.6   13.2"
      ]
     },
     "execution_count": 4,
     "metadata": {},
     "output_type": "execute_result"
    }
   ],
   "source": [
    "df.head(8)"
   ]
  },
  {
   "cell_type": "code",
   "execution_count": 5,
   "id": "06e03e1a",
   "metadata": {},
   "outputs": [
    {
     "data": {
      "text/html": [
       "<div>\n",
       "<style scoped>\n",
       "    .dataframe tbody tr th:only-of-type {\n",
       "        vertical-align: middle;\n",
       "    }\n",
       "\n",
       "    .dataframe tbody tr th {\n",
       "        vertical-align: top;\n",
       "    }\n",
       "\n",
       "    .dataframe thead th {\n",
       "        text-align: right;\n",
       "    }\n",
       "</style>\n",
       "<table border=\"1\" class=\"dataframe\">\n",
       "  <thead>\n",
       "    <tr style=\"text-align: right;\">\n",
       "      <th></th>\n",
       "      <th>TV</th>\n",
       "      <th>radio</th>\n",
       "      <th>newspaper</th>\n",
       "      <th>sales</th>\n",
       "    </tr>\n",
       "  </thead>\n",
       "  <tbody>\n",
       "    <tr>\n",
       "      <th>196</th>\n",
       "      <td>38.2</td>\n",
       "      <td>3.7</td>\n",
       "      <td>13.8</td>\n",
       "      <td>7.6</td>\n",
       "    </tr>\n",
       "    <tr>\n",
       "      <th>197</th>\n",
       "      <td>94.2</td>\n",
       "      <td>4.9</td>\n",
       "      <td>8.1</td>\n",
       "      <td>9.7</td>\n",
       "    </tr>\n",
       "    <tr>\n",
       "      <th>198</th>\n",
       "      <td>177.0</td>\n",
       "      <td>9.3</td>\n",
       "      <td>6.4</td>\n",
       "      <td>12.8</td>\n",
       "    </tr>\n",
       "    <tr>\n",
       "      <th>199</th>\n",
       "      <td>283.6</td>\n",
       "      <td>42.0</td>\n",
       "      <td>66.2</td>\n",
       "      <td>25.5</td>\n",
       "    </tr>\n",
       "    <tr>\n",
       "      <th>200</th>\n",
       "      <td>232.1</td>\n",
       "      <td>8.6</td>\n",
       "      <td>8.7</td>\n",
       "      <td>13.4</td>\n",
       "    </tr>\n",
       "  </tbody>\n",
       "</table>\n",
       "</div>"
      ],
      "text/plain": [
       "        TV  radio  newspaper  sales\n",
       "196   38.2    3.7       13.8    7.6\n",
       "197   94.2    4.9        8.1    9.7\n",
       "198  177.0    9.3        6.4   12.8\n",
       "199  283.6   42.0       66.2   25.5\n",
       "200  232.1    8.6        8.7   13.4"
      ]
     },
     "execution_count": 5,
     "metadata": {},
     "output_type": "execute_result"
    }
   ],
   "source": [
    "df.tail()"
   ]
  },
  {
   "cell_type": "code",
   "execution_count": 6,
   "id": "1988e253",
   "metadata": {
    "scrolled": true
   },
   "outputs": [
    {
     "name": "stdout",
     "output_type": "stream",
     "text": [
      "<class 'pandas.core.frame.DataFrame'>\n",
      "Int64Index: 200 entries, 1 to 200\n",
      "Data columns (total 4 columns):\n",
      " #   Column     Non-Null Count  Dtype  \n",
      "---  ------     --------------  -----  \n",
      " 0   TV         200 non-null    float64\n",
      " 1   radio      200 non-null    float64\n",
      " 2   newspaper  200 non-null    float64\n",
      " 3   sales      200 non-null    float64\n",
      "dtypes: float64(4)\n",
      "memory usage: 7.8 KB\n"
     ]
    }
   ],
   "source": [
    "df.info()\n"
   ]
  },
  {
   "cell_type": "code",
   "execution_count": 7,
   "id": "7ba73e4c",
   "metadata": {},
   "outputs": [],
   "source": [
    "# we have 4 features, all of float types\n",
    "# No null values included"
   ]
  },
  {
   "cell_type": "code",
   "execution_count": 8,
   "id": "31ba06dc",
   "metadata": {},
   "outputs": [
    {
     "data": {
      "text/html": [
       "<div>\n",
       "<style scoped>\n",
       "    .dataframe tbody tr th:only-of-type {\n",
       "        vertical-align: middle;\n",
       "    }\n",
       "\n",
       "    .dataframe tbody tr th {\n",
       "        vertical-align: top;\n",
       "    }\n",
       "\n",
       "    .dataframe thead th {\n",
       "        text-align: right;\n",
       "    }\n",
       "</style>\n",
       "<table border=\"1\" class=\"dataframe\">\n",
       "  <thead>\n",
       "    <tr style=\"text-align: right;\">\n",
       "      <th></th>\n",
       "      <th>count</th>\n",
       "      <th>mean</th>\n",
       "      <th>std</th>\n",
       "      <th>min</th>\n",
       "      <th>25%</th>\n",
       "      <th>50%</th>\n",
       "      <th>75%</th>\n",
       "      <th>max</th>\n",
       "    </tr>\n",
       "  </thead>\n",
       "  <tbody>\n",
       "    <tr>\n",
       "      <th>TV</th>\n",
       "      <td>200.0</td>\n",
       "      <td>147.0425</td>\n",
       "      <td>85.854236</td>\n",
       "      <td>0.7</td>\n",
       "      <td>74.375</td>\n",
       "      <td>149.75</td>\n",
       "      <td>218.825</td>\n",
       "      <td>296.4</td>\n",
       "    </tr>\n",
       "    <tr>\n",
       "      <th>radio</th>\n",
       "      <td>200.0</td>\n",
       "      <td>23.2640</td>\n",
       "      <td>14.846809</td>\n",
       "      <td>0.0</td>\n",
       "      <td>9.975</td>\n",
       "      <td>22.90</td>\n",
       "      <td>36.525</td>\n",
       "      <td>49.6</td>\n",
       "    </tr>\n",
       "    <tr>\n",
       "      <th>newspaper</th>\n",
       "      <td>200.0</td>\n",
       "      <td>30.5540</td>\n",
       "      <td>21.778621</td>\n",
       "      <td>0.3</td>\n",
       "      <td>12.750</td>\n",
       "      <td>25.75</td>\n",
       "      <td>45.100</td>\n",
       "      <td>114.0</td>\n",
       "    </tr>\n",
       "    <tr>\n",
       "      <th>sales</th>\n",
       "      <td>200.0</td>\n",
       "      <td>14.0225</td>\n",
       "      <td>5.217457</td>\n",
       "      <td>1.6</td>\n",
       "      <td>10.375</td>\n",
       "      <td>12.90</td>\n",
       "      <td>17.400</td>\n",
       "      <td>27.0</td>\n",
       "    </tr>\n",
       "  </tbody>\n",
       "</table>\n",
       "</div>"
      ],
      "text/plain": [
       "           count      mean        std  min     25%     50%      75%    max\n",
       "TV         200.0  147.0425  85.854236  0.7  74.375  149.75  218.825  296.4\n",
       "radio      200.0   23.2640  14.846809  0.0   9.975   22.90   36.525   49.6\n",
       "newspaper  200.0   30.5540  21.778621  0.3  12.750   25.75   45.100  114.0\n",
       "sales      200.0   14.0225   5.217457  1.6  10.375   12.90   17.400   27.0"
      ]
     },
     "execution_count": 8,
     "metadata": {},
     "output_type": "execute_result"
    }
   ],
   "source": [
    "df.describe().T"
   ]
  },
  {
   "cell_type": "code",
   "execution_count": 9,
   "id": "b28fff4a",
   "metadata": {},
   "outputs": [],
   "source": [
    "#conclusion: news paper seems to have outlier/right skewed data, after 75% max is very large"
   ]
  },
  {
   "cell_type": "code",
   "execution_count": 10,
   "id": "f48fdf45",
   "metadata": {},
   "outputs": [
    {
     "data": {
      "text/plain": [
       "(200, 4)"
      ]
     },
     "execution_count": 10,
     "metadata": {},
     "output_type": "execute_result"
    }
   ],
   "source": [
    "df.shape"
   ]
  },
  {
   "cell_type": "code",
   "execution_count": 11,
   "id": "276d8b53",
   "metadata": {},
   "outputs": [],
   "source": [
    "# Check distribution"
   ]
  },
  {
   "cell_type": "code",
   "execution_count": 12,
   "id": "be85e850",
   "metadata": {},
   "outputs": [
    {
     "data": {
      "image/png": "[encoded data removed]",
      "text/plain": [
       "<Figure size 432x288 with 1 Axes>"
      ]
     },
     "metadata": {
      "needs_background": "light"
     },
     "output_type": "display_data"
    },
    {
     "data": {
      "image/png": "[encoded data removed]",
      "text/plain": [
       "<Figure size 432x288 with 1 Axes>"
      ]
     },
     "metadata": {
      "needs_background": "light"
     },
     "output_type": "display_data"
    },
    {
     "data": {
      "image/png": "[encoded data removed]",
      "text/plain": [
       "<Figure size 432x288 with 1 Axes>"
      ]
     },
     "metadata": {
      "needs_background": "light"
     },
     "output_type": "display_data"
    },
    {
     "data": {
      "image/png": "[encoded data removed]",
      "text/plain": [
       "<Figure size 432x288 with 1 Axes>"
      ]
     },
     "metadata": {
      "needs_background": "light"
     },
     "output_type": "display_data"
    }
   ],
   "source": [
    "for i in df.columns:\n",
    "    sns.histplot(df[i])\n",
    "    plt.show()"
   ]
  },
  {
   "cell_type": "code",
   "execution_count": 13,
   "id": "d87292d8",
   "metadata": {},
   "outputs": [
    {
     "data": {
      "image/png": "[encoded data removed]",
      "text/plain": [
       "<Figure size 432x288 with 1 Axes>"
      ]
     },
     "metadata": {
      "needs_background": "light"
     },
     "output_type": "display_data"
    },
    {
     "data": {
      "image/png": "[encoded data removed]",
      "text/plain": [
       "<Figure size 432x288 with 1 Axes>"
      ]
     },
     "metadata": {
      "needs_background": "light"
     },
     "output_type": "display_data"
    },
    {
     "data": {
      "image/png": "[encoded data removed]",
      "text/plain": [
       "<Figure size 432x288 with 1 Axes>"
      ]
     },
     "metadata": {
      "needs_background": "light"
     },
     "output_type": "display_data"
    },
    {
     "data": {
      "image/png": "[encoded data removed]",
      "text/plain": [
       "<Figure size 432x288 with 1 Axes>"
      ]
     },
     "metadata": {
      "needs_background": "light"
     },
     "output_type": "display_data"
    }
   ],
   "source": [
    "for i in df.columns:\n",
    "    sns.distplot(df[i],kde=True)\n",
    "    plt.show()"
   ]
  },
  {
   "cell_type": "code",
   "execution_count": 14,
   "id": "3939bf83",
   "metadata": {},
   "outputs": [],
   "source": [
    "# TV dnt have normal distribution\n",
    "#Radio dnt have normal distribution\n",
    "# newspaper have alinke normal distribution but right skewed\n",
    "# Sales likly to have normal distribution byt right skewed"
   ]
  },
  {
   "cell_type": "code",
   "execution_count": 15,
   "id": "e5d75836",
   "metadata": {},
   "outputs": [
    {
     "data": {
      "text/html": [
       "<div>\n",
       "<style scoped>\n",
       "    .dataframe tbody tr th:only-of-type {\n",
       "        vertical-align: middle;\n",
       "    }\n",
       "\n",
       "    .dataframe tbody tr th {\n",
       "        vertical-align: top;\n",
       "    }\n",
       "\n",
       "    .dataframe thead th {\n",
       "        text-align: right;\n",
       "    }\n",
       "</style>\n",
       "<table border=\"1\" class=\"dataframe\">\n",
       "  <thead>\n",
       "    <tr style=\"text-align: right;\">\n",
       "      <th></th>\n",
       "      <th>TV</th>\n",
       "      <th>radio</th>\n",
       "      <th>newspaper</th>\n",
       "      <th>sales</th>\n",
       "    </tr>\n",
       "  </thead>\n",
       "  <tbody>\n",
       "    <tr>\n",
       "      <th>1</th>\n",
       "      <td>230.1</td>\n",
       "      <td>37.8</td>\n",
       "      <td>69.2</td>\n",
       "      <td>22.1</td>\n",
       "    </tr>\n",
       "    <tr>\n",
       "      <th>2</th>\n",
       "      <td>44.5</td>\n",
       "      <td>39.3</td>\n",
       "      <td>45.1</td>\n",
       "      <td>10.4</td>\n",
       "    </tr>\n",
       "    <tr>\n",
       "      <th>3</th>\n",
       "      <td>17.2</td>\n",
       "      <td>45.9</td>\n",
       "      <td>69.3</td>\n",
       "      <td>9.3</td>\n",
       "    </tr>\n",
       "    <tr>\n",
       "      <th>4</th>\n",
       "      <td>151.5</td>\n",
       "      <td>41.3</td>\n",
       "      <td>58.5</td>\n",
       "      <td>18.5</td>\n",
       "    </tr>\n",
       "    <tr>\n",
       "      <th>5</th>\n",
       "      <td>180.8</td>\n",
       "      <td>10.8</td>\n",
       "      <td>58.4</td>\n",
       "      <td>12.9</td>\n",
       "    </tr>\n",
       "  </tbody>\n",
       "</table>\n",
       "</div>"
      ],
      "text/plain": [
       "      TV  radio  newspaper  sales\n",
       "1  230.1   37.8       69.2   22.1\n",
       "2   44.5   39.3       45.1   10.4\n",
       "3   17.2   45.9       69.3    9.3\n",
       "4  151.5   41.3       58.5   18.5\n",
       "5  180.8   10.8       58.4   12.9"
      ]
     },
     "execution_count": 15,
     "metadata": {},
     "output_type": "execute_result"
    }
   ],
   "source": [
    "df.head()"
   ]
  },
  {
   "cell_type": "code",
   "execution_count": 16,
   "id": "280c9661",
   "metadata": {},
   "outputs": [
    {
     "data": {
      "text/plain": [
       "<AxesSubplot:xlabel='TV', ylabel='sales'>"
      ]
     },
     "execution_count": 16,
     "metadata": {},
     "output_type": "execute_result"
    },
    {
     "data": {
      "image/png": "[encoded data removed]",
      "text/plain": [
       "<Figure size 432x288 with 1 Axes>"
      ]
     },
     "metadata": {
      "needs_background": "light"
     },
     "output_type": "display_data"
    }
   ],
   "source": [
    "sns.scatterplot(x='TV',y='sales', data=df)"
   ]
  },
  {
   "cell_type": "code",
   "execution_count": 17,
   "id": "238ce158",
   "metadata": {},
   "outputs": [],
   "source": [
    "# TV has a positive correlation with sales, as the TV advisement increases, sales increases\n"
   ]
  },
  {
   "cell_type": "code",
   "execution_count": 18,
   "id": "5815b129",
   "metadata": {},
   "outputs": [
    {
     "data": {
      "text/plain": [
       "<AxesSubplot:xlabel='radio', ylabel='sales'>"
      ]
     },
     "execution_count": 18,
     "metadata": {},
     "output_type": "execute_result"
    },
    {
     "data": {
      "image/png": "[encoded data removed]",
      "text/plain": [
       "<Figure size 432x288 with 1 Axes>"
      ]
     },
     "metadata": {
      "needs_background": "light"
     },
     "output_type": "display_data"
    }
   ],
   "source": [
    "sns.scatterplot(x='radio',y='sales', data=df)"
   ]
  },
  {
   "cell_type": "code",
   "execution_count": 19,
   "id": "b12342fb",
   "metadata": {},
   "outputs": [],
   "source": [
    "# # although radio have positive correlation with sales, some points are like higher radio advertisement but still low sales"
   ]
  },
  {
   "cell_type": "code",
   "execution_count": 20,
   "id": "e3a7cbab",
   "metadata": {},
   "outputs": [
    {
     "data": {
      "text/plain": [
       "<AxesSubplot:xlabel='newspaper', ylabel='sales'>"
      ]
     },
     "execution_count": 20,
     "metadata": {},
     "output_type": "execute_result"
    },
    {
     "data": {
      "image/png": "[encoded data removed]",
      "text/plain": [
       "<Figure size 432x288 with 1 Axes>"
      ]
     },
     "metadata": {
      "needs_background": "light"
     },
     "output_type": "display_data"
    }
   ],
   "source": [
    "sns.scatterplot(x='newspaper',y='sales',data=df)"
   ]
  },
  {
   "cell_type": "code",
   "execution_count": 21,
   "id": "a092edda",
   "metadata": {},
   "outputs": [],
   "source": [
    "# data is scattered all over, clearly not visible if newspaper have any good correlation with sales."
   ]
  },
  {
   "cell_type": "code",
   "execution_count": 22,
   "id": "c162e184",
   "metadata": {},
   "outputs": [],
   "source": [
    "#We need to predict sales for any advertisement. It will help to understand, where we need to put advertisement to increase our sales"
   ]
  },
  {
   "cell_type": "code",
   "execution_count": 24,
   "id": "af1b66e6",
   "metadata": {},
   "outputs": [
    {
     "data": {
      "text/html": [
       "<div>\n",
       "<style scoped>\n",
       "    .dataframe tbody tr th:only-of-type {\n",
       "        vertical-align: middle;\n",
       "    }\n",
       "\n",
       "    .dataframe tbody tr th {\n",
       "        vertical-align: top;\n",
       "    }\n",
       "\n",
       "    .dataframe thead th {\n",
       "        text-align: right;\n",
       "    }\n",
       "</style>\n",
       "<table border=\"1\" class=\"dataframe\">\n",
       "  <thead>\n",
       "    <tr style=\"text-align: right;\">\n",
       "      <th></th>\n",
       "      <th>TV</th>\n",
       "      <th>radio</th>\n",
       "      <th>newspaper</th>\n",
       "      <th>sales</th>\n",
       "    </tr>\n",
       "  </thead>\n",
       "  <tbody>\n",
       "    <tr>\n",
       "      <th>1</th>\n",
       "      <td>230.1</td>\n",
       "      <td>37.8</td>\n",
       "      <td>69.2</td>\n",
       "      <td>22.1</td>\n",
       "    </tr>\n",
       "    <tr>\n",
       "      <th>2</th>\n",
       "      <td>44.5</td>\n",
       "      <td>39.3</td>\n",
       "      <td>45.1</td>\n",
       "      <td>10.4</td>\n",
       "    </tr>\n",
       "    <tr>\n",
       "      <th>3</th>\n",
       "      <td>17.2</td>\n",
       "      <td>45.9</td>\n",
       "      <td>69.3</td>\n",
       "      <td>9.3</td>\n",
       "    </tr>\n",
       "    <tr>\n",
       "      <th>4</th>\n",
       "      <td>151.5</td>\n",
       "      <td>41.3</td>\n",
       "      <td>58.5</td>\n",
       "      <td>18.5</td>\n",
       "    </tr>\n",
       "    <tr>\n",
       "      <th>5</th>\n",
       "      <td>180.8</td>\n",
       "      <td>10.8</td>\n",
       "      <td>58.4</td>\n",
       "      <td>12.9</td>\n",
       "    </tr>\n",
       "  </tbody>\n",
       "</table>\n",
       "</div>"
      ],
      "text/plain": [
       "      TV  radio  newspaper  sales\n",
       "1  230.1   37.8       69.2   22.1\n",
       "2   44.5   39.3       45.1   10.4\n",
       "3   17.2   45.9       69.3    9.3\n",
       "4  151.5   41.3       58.5   18.5\n",
       "5  180.8   10.8       58.4   12.9"
      ]
     },
     "execution_count": 24,
     "metadata": {},
     "output_type": "execute_result"
    }
   ],
   "source": [
    "df.head()"
   ]
  },
  {
   "cell_type": "code",
   "execution_count": 25,
   "id": "adee988d",
   "metadata": {},
   "outputs": [
    {
     "data": {
      "text/html": [
       "<div>\n",
       "<style scoped>\n",
       "    .dataframe tbody tr th:only-of-type {\n",
       "        vertical-align: middle;\n",
       "    }\n",
       "\n",
       "    .dataframe tbody tr th {\n",
       "        vertical-align: top;\n",
       "    }\n",
       "\n",
       "    .dataframe thead th {\n",
       "        text-align: right;\n",
       "    }\n",
       "</style>\n",
       "<table border=\"1\" class=\"dataframe\">\n",
       "  <thead>\n",
       "    <tr style=\"text-align: right;\">\n",
       "      <th></th>\n",
       "      <th>TV</th>\n",
       "      <th>radio</th>\n",
       "      <th>newspaper</th>\n",
       "      <th>sales</th>\n",
       "    </tr>\n",
       "  </thead>\n",
       "  <tbody>\n",
       "    <tr>\n",
       "      <th>TV</th>\n",
       "      <td>1.000000</td>\n",
       "      <td>0.054809</td>\n",
       "      <td>0.056648</td>\n",
       "      <td>0.782224</td>\n",
       "    </tr>\n",
       "    <tr>\n",
       "      <th>radio</th>\n",
       "      <td>0.054809</td>\n",
       "      <td>1.000000</td>\n",
       "      <td>0.354104</td>\n",
       "      <td>0.576223</td>\n",
       "    </tr>\n",
       "    <tr>\n",
       "      <th>newspaper</th>\n",
       "      <td>0.056648</td>\n",
       "      <td>0.354104</td>\n",
       "      <td>1.000000</td>\n",
       "      <td>0.228299</td>\n",
       "    </tr>\n",
       "    <tr>\n",
       "      <th>sales</th>\n",
       "      <td>0.782224</td>\n",
       "      <td>0.576223</td>\n",
       "      <td>0.228299</td>\n",
       "      <td>1.000000</td>\n",
       "    </tr>\n",
       "  </tbody>\n",
       "</table>\n",
       "</div>"
      ],
      "text/plain": [
       "                 TV     radio  newspaper     sales\n",
       "TV         1.000000  0.054809   0.056648  0.782224\n",
       "radio      0.054809  1.000000   0.354104  0.576223\n",
       "newspaper  0.056648  0.354104   1.000000  0.228299\n",
       "sales      0.782224  0.576223   0.228299  1.000000"
      ]
     },
     "execution_count": 25,
     "metadata": {},
     "output_type": "execute_result"
    }
   ],
   "source": [
    "df.corr()"
   ]
  },
  {
   "cell_type": "code",
   "execution_count": 26,
   "id": "6044fa58",
   "metadata": {},
   "outputs": [
    {
     "data": {
      "text/plain": [
       "<AxesSubplot:>"
      ]
     },
     "execution_count": 26,
     "metadata": {},
     "output_type": "execute_result"
    },
    {
     "data": {
      "image/png": "[encoded data removed]",
      "text/plain": [
       "<Figure size 432x288 with 2 Axes>"
      ]
     },
     "metadata": {
      "needs_background": "light"
     },
     "output_type": "display_data"
    }
   ],
   "source": [
    "sns.heatmap(df.corr(),annot=True,linecolor='black',linewidths=.25)"
   ]
  },
  {
   "cell_type": "code",
   "execution_count": 28,
   "id": "9ab5e997",
   "metadata": {},
   "outputs": [],
   "source": [
    "# Sales and TV has strong correlation  .78\n",
    "# sales and radio has good correlation .58\n",
    "# sales and newspaper has low correlation .23"
   ]
  },
  {
   "cell_type": "code",
   "execution_count": 29,
   "id": "3e497d0e",
   "metadata": {},
   "outputs": [],
   "source": [
    "vif_data= df.drop('sales',axis=1)"
   ]
  },
  {
   "cell_type": "code",
   "execution_count": 30,
   "id": "0c373567",
   "metadata": {},
   "outputs": [],
   "source": [
    "from sklearn.preprocessing import StandardScaler\n",
    "sc=StandardScaler()\n",
    "df_scaled= sc.fit_transform(vif_data)"
   ]
  },
  {
   "cell_type": "code",
   "execution_count": 31,
   "id": "05af8e21",
   "metadata": {},
   "outputs": [],
   "source": [
    "from statsmodels.stats.outliers_influence import variance_inflation_factor"
   ]
  },
  {
   "cell_type": "code",
   "execution_count": 32,
   "id": "af6650c9",
   "metadata": {},
   "outputs": [],
   "source": [
    "VIF= pd.DataFrame()\n",
    "VIF['features']= vif_data.columns"
   ]
  },
  {
   "cell_type": "code",
   "execution_count": 34,
   "id": "d2f331fa",
   "metadata": {},
   "outputs": [],
   "source": [
    "VIF['VIF']= [variance_inflation_factor(df_scaled,i ) for i in range(len(vif_data.columns))]"
   ]
  },
  {
   "cell_type": "code",
   "execution_count": 35,
   "id": "23c9652d",
   "metadata": {},
   "outputs": [
    {
     "data": {
      "text/html": [
       "<div>\n",
       "<style scoped>\n",
       "    .dataframe tbody tr th:only-of-type {\n",
       "        vertical-align: middle;\n",
       "    }\n",
       "\n",
       "    .dataframe tbody tr th {\n",
       "        vertical-align: top;\n",
       "    }\n",
       "\n",
       "    .dataframe thead th {\n",
       "        text-align: right;\n",
       "    }\n",
       "</style>\n",
       "<table border=\"1\" class=\"dataframe\">\n",
       "  <thead>\n",
       "    <tr style=\"text-align: right;\">\n",
       "      <th></th>\n",
       "      <th>features</th>\n",
       "      <th>VIF</th>\n",
       "    </tr>\n",
       "  </thead>\n",
       "  <tbody>\n",
       "    <tr>\n",
       "      <th>0</th>\n",
       "      <td>TV</td>\n",
       "      <td>1.004611</td>\n",
       "    </tr>\n",
       "    <tr>\n",
       "      <th>1</th>\n",
       "      <td>radio</td>\n",
       "      <td>1.144952</td>\n",
       "    </tr>\n",
       "    <tr>\n",
       "      <th>2</th>\n",
       "      <td>newspaper</td>\n",
       "      <td>1.145187</td>\n",
       "    </tr>\n",
       "  </tbody>\n",
       "</table>\n",
       "</div>"
      ],
      "text/plain": [
       "    features       VIF\n",
       "0         TV  1.004611\n",
       "1      radio  1.144952\n",
       "2  newspaper  1.145187"
      ]
     },
     "execution_count": 35,
     "metadata": {},
     "output_type": "execute_result"
    }
   ],
   "source": [
    "VIF"
   ]
  },
  {
   "cell_type": "code",
   "execution_count": 36,
   "id": "273d0f08",
   "metadata": {},
   "outputs": [],
   "source": [
    "#  No multicolinearity found between independent variables, safe range is -5 to +5"
   ]
  },
  {
   "cell_type": "code",
   "execution_count": 37,
   "id": "8bf2c227",
   "metadata": {},
   "outputs": [],
   "source": [
    "# lets check for outliers in dataset"
   ]
  },
  {
   "cell_type": "code",
   "execution_count": 38,
   "id": "f7501e89",
   "metadata": {},
   "outputs": [
    {
     "data": {
      "text/plain": [
       "TV          -0.069853\n",
       "radio        0.094175\n",
       "newspaper    0.894720\n",
       "sales        0.407571\n",
       "dtype: float64"
      ]
     },
     "execution_count": 38,
     "metadata": {},
     "output_type": "execute_result"
    }
   ],
   "source": [
    "df.skew()  # News paper is much skewed"
   ]
  },
  {
   "cell_type": "code",
   "execution_count": 39,
   "id": "453d9adb",
   "metadata": {},
   "outputs": [
    {
     "data": {
      "image/png": "[encoded data removed]",
      "text/plain": [
       "<Figure size 432x288 with 1 Axes>"
      ]
     },
     "metadata": {
      "needs_background": "light"
     },
     "output_type": "display_data"
    },
    {
     "data": {
      "image/png": "[encoded data removed]",
      "text/plain": [
       "<Figure size 432x288 with 1 Axes>"
      ]
     },
     "metadata": {
      "needs_background": "light"
     },
     "output_type": "display_data"
    },
    {
     "data": {
      "image/png": "[encoded data removed]",
      "text/plain": [
       "<Figure size 432x288 with 1 Axes>"
      ]
     },
     "metadata": {
      "needs_background": "light"
     },
     "output_type": "display_data"
    },
    {
     "data": {
      "image/png": "[encoded data removed]",
      "text/plain": [
       "<Figure size 432x288 with 1 Axes>"
      ]
     },
     "metadata": {
      "needs_background": "light"
     },
     "output_type": "display_data"
    }
   ],
   "source": [
    "for i in df.columns:\n",
    "    sns.distplot(df[i])\n",
    "    plt.show()"
   ]
  },
  {
   "cell_type": "code",
   "execution_count": 40,
   "id": "1a183241",
   "metadata": {},
   "outputs": [
    {
     "data": {
      "image/png": "[encoded data removed]",
      "text/plain": [
       "<Figure size 432x288 with 1 Axes>"
      ]
     },
     "metadata": {
      "needs_background": "light"
     },
     "output_type": "display_data"
    },
    {
     "data": {
      "image/png": "[encoded data removed]",
      "text/plain": [
       "<Figure size 432x288 with 1 Axes>"
      ]
     },
     "metadata": {
      "needs_background": "light"
     },
     "output_type": "display_data"
    },
    {
     "data": {
      "image/png": "[encoded data removed]",
      "text/plain": [
       "<Figure size 432x288 with 1 Axes>"
      ]
     },
     "metadata": {
      "needs_background": "light"
     },
     "output_type": "display_data"
    },
    {
     "data": {
      "image/png": "[encoded data removed]",
      "text/plain": [
       "<Figure size 432x288 with 1 Axes>"
      ]
     },
     "metadata": {
      "needs_background": "light"
     },
     "output_type": "display_data"
    }
   ],
   "source": [
    "for i in df.columns:\n",
    "    sns.boxplot(df[i])\n",
    "    plt.show()"
   ]
  },
  {
   "cell_type": "code",
   "execution_count": 41,
   "id": "2b22b5e4",
   "metadata": {},
   "outputs": [],
   "source": [
    "# only Newspaper have outliers, lets handle them through IQR"
   ]
  },
  {
   "cell_type": "code",
   "execution_count": 42,
   "id": "d3ff8d29",
   "metadata": {},
   "outputs": [
    {
     "data": {
      "text/plain": [
       "0.3"
      ]
     },
     "execution_count": 42,
     "metadata": {},
     "output_type": "execute_result"
    }
   ],
   "source": [
    "df['newspaper'].min()"
   ]
  },
  {
   "cell_type": "code",
   "execution_count": 43,
   "id": "2be3c2a7",
   "metadata": {},
   "outputs": [
    {
     "data": {
      "text/plain": [
       "114.0"
      ]
     },
     "execution_count": 43,
     "metadata": {},
     "output_type": "execute_result"
    }
   ],
   "source": [
    "df['newspaper'].max()"
   ]
  },
  {
   "cell_type": "code",
   "execution_count": 44,
   "id": "8da19e56",
   "metadata": {},
   "outputs": [
    {
     "data": {
      "text/plain": [
       "count    200.000000\n",
       "mean      30.554000\n",
       "std       21.778621\n",
       "min        0.300000\n",
       "25%       12.750000\n",
       "50%       25.750000\n",
       "75%       45.100000\n",
       "max      114.000000\n",
       "Name: newspaper, dtype: float64"
      ]
     },
     "execution_count": 44,
     "metadata": {},
     "output_type": "execute_result"
    }
   ],
   "source": [
    "df['newspaper'].describe()"
   ]
  },
  {
   "cell_type": "code",
   "execution_count": 45,
   "id": "354e144b",
   "metadata": {},
   "outputs": [],
   "source": [
    "# skewness and outliers are present in newspaper feature\n",
    "\n",
    "# Outliers are present on upper side only, lets handler then"
   ]
  },
  {
   "cell_type": "code",
   "execution_count": 46,
   "id": "2aac4e73",
   "metadata": {},
   "outputs": [
    {
     "data": {
      "text/plain": [
       "32.35"
      ]
     },
     "execution_count": 46,
     "metadata": {},
     "output_type": "execute_result"
    }
   ],
   "source": [
    "IQR= df['newspaper'].quantile(.75)- df['newspaper'].quantile(.25)\n",
    "IQR"
   ]
  },
  {
   "cell_type": "code",
   "execution_count": 48,
   "id": "391be159",
   "metadata": {},
   "outputs": [],
   "source": [
    "#lower= Q1- (1.5* IQR)  # no outlier in lowe side\n",
    "#upper= Q3+(1.5* IQR)"
   ]
  },
  {
   "cell_type": "code",
   "execution_count": 49,
   "id": "6f2dc476",
   "metadata": {},
   "outputs": [
    {
     "data": {
      "text/plain": [
       "93.625"
      ]
     },
     "execution_count": 49,
     "metadata": {},
     "output_type": "execute_result"
    }
   ],
   "source": [
    "upper= df['newspaper'].quantile(.75) + (1.5 * IQR)\n",
    "upper"
   ]
  },
  {
   "cell_type": "code",
   "execution_count": 50,
   "id": "84714620",
   "metadata": {},
   "outputs": [],
   "source": [
    "df['newspaper']= np.where(df['newspaper']>upper,upper,df['newspaper'])"
   ]
  },
  {
   "cell_type": "code",
   "execution_count": 51,
   "id": "ed22bcc1",
   "metadata": {},
   "outputs": [
    {
     "data": {
      "text/plain": [
       "<AxesSubplot:xlabel='newspaper'>"
      ]
     },
     "execution_count": 51,
     "metadata": {},
     "output_type": "execute_result"
    },
    {
     "data": {
      "image/png": "[encoded data removed]",
      "text/plain": [
       "<Figure size 432x288 with 1 Axes>"
      ]
     },
     "metadata": {
      "needs_background": "light"
     },
     "output_type": "display_data"
    }
   ],
   "source": [
    "sns.boxplot(df['newspaper'])"
   ]
  },
  {
   "cell_type": "code",
   "execution_count": 52,
   "id": "6c8d50ed",
   "metadata": {},
   "outputs": [
    {
     "data": {
      "text/plain": [
       "TV          -0.069853\n",
       "radio        0.094175\n",
       "newspaper    0.749830\n",
       "sales        0.407571\n",
       "dtype: float64"
      ]
     },
     "execution_count": 52,
     "metadata": {},
     "output_type": "execute_result"
    }
   ],
   "source": [
    "df.skew()"
   ]
  },
  {
   "cell_type": "code",
   "execution_count": 54,
   "id": "26cd1c48",
   "metadata": {},
   "outputs": [],
   "source": [
    "# reduced somehow lil bit skewness in newspaper column\n",
    "#Seprate independent and dependent column"
   ]
  },
  {
   "cell_type": "code",
   "execution_count": 55,
   "id": "8ace151e",
   "metadata": {},
   "outputs": [
    {
     "data": {
      "text/html": [
       "<div>\n",
       "<style scoped>\n",
       "    .dataframe tbody tr th:only-of-type {\n",
       "        vertical-align: middle;\n",
       "    }\n",
       "\n",
       "    .dataframe tbody tr th {\n",
       "        vertical-align: top;\n",
       "    }\n",
       "\n",
       "    .dataframe thead th {\n",
       "        text-align: right;\n",
       "    }\n",
       "</style>\n",
       "<table border=\"1\" class=\"dataframe\">\n",
       "  <thead>\n",
       "    <tr style=\"text-align: right;\">\n",
       "      <th></th>\n",
       "      <th>TV</th>\n",
       "      <th>radio</th>\n",
       "      <th>newspaper</th>\n",
       "      <th>sales</th>\n",
       "    </tr>\n",
       "  </thead>\n",
       "  <tbody>\n",
       "    <tr>\n",
       "      <th>1</th>\n",
       "      <td>230.1</td>\n",
       "      <td>37.8</td>\n",
       "      <td>69.2</td>\n",
       "      <td>22.1</td>\n",
       "    </tr>\n",
       "    <tr>\n",
       "      <th>2</th>\n",
       "      <td>44.5</td>\n",
       "      <td>39.3</td>\n",
       "      <td>45.1</td>\n",
       "      <td>10.4</td>\n",
       "    </tr>\n",
       "    <tr>\n",
       "      <th>3</th>\n",
       "      <td>17.2</td>\n",
       "      <td>45.9</td>\n",
       "      <td>69.3</td>\n",
       "      <td>9.3</td>\n",
       "    </tr>\n",
       "    <tr>\n",
       "      <th>4</th>\n",
       "      <td>151.5</td>\n",
       "      <td>41.3</td>\n",
       "      <td>58.5</td>\n",
       "      <td>18.5</td>\n",
       "    </tr>\n",
       "    <tr>\n",
       "      <th>5</th>\n",
       "      <td>180.8</td>\n",
       "      <td>10.8</td>\n",
       "      <td>58.4</td>\n",
       "      <td>12.9</td>\n",
       "    </tr>\n",
       "  </tbody>\n",
       "</table>\n",
       "</div>"
      ],
      "text/plain": [
       "      TV  radio  newspaper  sales\n",
       "1  230.1   37.8       69.2   22.1\n",
       "2   44.5   39.3       45.1   10.4\n",
       "3   17.2   45.9       69.3    9.3\n",
       "4  151.5   41.3       58.5   18.5\n",
       "5  180.8   10.8       58.4   12.9"
      ]
     },
     "execution_count": 55,
     "metadata": {},
     "output_type": "execute_result"
    }
   ],
   "source": [
    "df.head()"
   ]
  },
  {
   "cell_type": "code",
   "execution_count": 56,
   "id": "76d5a33c",
   "metadata": {},
   "outputs": [],
   "source": [
    "X= df.drop('sales',axis=1)\n",
    "Y= df['sales']"
   ]
  },
  {
   "cell_type": "code",
   "execution_count": 57,
   "id": "11eb621c",
   "metadata": {},
   "outputs": [
    {
     "data": {
      "text/plain": [
       "(200, 3)"
      ]
     },
     "execution_count": 57,
     "metadata": {},
     "output_type": "execute_result"
    }
   ],
   "source": [
    "X.shape"
   ]
  },
  {
   "cell_type": "code",
   "execution_count": 58,
   "id": "07d140f5",
   "metadata": {},
   "outputs": [
    {
     "data": {
      "text/plain": [
       "pandas.core.frame.DataFrame"
      ]
     },
     "execution_count": 58,
     "metadata": {},
     "output_type": "execute_result"
    }
   ],
   "source": [
    "type(X)"
   ]
  },
  {
   "cell_type": "code",
   "execution_count": 59,
   "id": "acbb8b39",
   "metadata": {},
   "outputs": [
    {
     "data": {
      "text/plain": [
       "(200,)"
      ]
     },
     "execution_count": 59,
     "metadata": {},
     "output_type": "execute_result"
    }
   ],
   "source": [
    "Y.shape"
   ]
  },
  {
   "cell_type": "code",
   "execution_count": 60,
   "id": "efc9d106",
   "metadata": {},
   "outputs": [
    {
     "data": {
      "text/plain": [
       "pandas.core.series.Series"
      ]
     },
     "execution_count": 60,
     "metadata": {},
     "output_type": "execute_result"
    }
   ],
   "source": [
    "type(Y)"
   ]
  },
  {
   "cell_type": "code",
   "execution_count": 61,
   "id": "5729eed5",
   "metadata": {},
   "outputs": [],
   "source": [
    "Y= pd.DataFrame(Y)"
   ]
  },
  {
   "cell_type": "code",
   "execution_count": 62,
   "id": "544d4d33",
   "metadata": {},
   "outputs": [
    {
     "data": {
      "text/plain": [
       "pandas.core.frame.DataFrame"
      ]
     },
     "execution_count": 62,
     "metadata": {},
     "output_type": "execute_result"
    }
   ],
   "source": [
    "type(Y)"
   ]
  },
  {
   "cell_type": "code",
   "execution_count": 63,
   "id": "3e19e3ae",
   "metadata": {},
   "outputs": [
    {
     "data": {
      "text/plain": [
       "(200, 1)"
      ]
     },
     "execution_count": 63,
     "metadata": {},
     "output_type": "execute_result"
    }
   ],
   "source": [
    "Y.shape"
   ]
  },
  {
   "cell_type": "code",
   "execution_count": 64,
   "id": "0eba20b8",
   "metadata": {},
   "outputs": [
    {
     "data": {
      "text/plain": [
       "TV          -0.069853\n",
       "radio        0.094175\n",
       "newspaper    0.749830\n",
       "dtype: float64"
      ]
     },
     "execution_count": 64,
     "metadata": {},
     "output_type": "execute_result"
    }
   ],
   "source": [
    "X.skew() # skewness before transformation"
   ]
  },
  {
   "cell_type": "code",
   "execution_count": 65,
   "id": "6f191b18",
   "metadata": {},
   "outputs": [],
   "source": [
    "from sklearn.preprocessing import power_transform\n",
    "X_transformed= power_transform(X,method='yeo-johnson') "
   ]
  },
  {
   "cell_type": "code",
   "execution_count": 66,
   "id": "6ae7cfd9",
   "metadata": {},
   "outputs": [
    {
     "data": {
      "text/plain": [
       "array([[ 0.94867429,  0.96224689,  1.53773716],\n",
       "       [-1.19131426,  1.0401788 ,  0.79472708],\n",
       "       [-1.6477566 ,  1.37070964,  1.54046897],\n",
       "       [ 0.14102023,  1.14238689,  1.23066168],\n",
       "       [ 0.45271493, -0.74865064,  1.22764076],\n",
       "       [-1.82382233,  1.51501853,  1.69246973],\n",
       "       [-1.00249116,  0.69372704, -0.11268786],\n",
       "       [-0.210275  , -0.10158544, -0.85057892],\n",
       "       [-1.82609501, -1.63345378, -2.11620688],\n",
       "       [ 0.64764492, -1.56676988, -0.23476035],\n",
       "       [-0.88377378, -1.20298758, -0.07691632],\n",
       "       [ 0.79708355,  0.18072579, -1.60050754],\n",
       "       [-1.52641627,  0.81900563,  1.44623798],\n",
       "       [-0.48036844, -1.02813642, -1.23342927],\n",
       "       [ 0.69106577,  0.6992403 ,  0.82623392],\n",
       "       [ 0.60295713,  1.45770359,  1.05652433],\n",
       "       [-0.86079972,  0.89906999,  2.14593479],\n",
       "       [ 1.4355201 ,  1.05563142,  1.14799585],\n",
       "       [-0.84199328, -0.04209908, -0.40009193],\n",
       "       [ 0.09508551,  0.17453165, -0.35306736],\n",
       "       [ 0.8337607 ,  0.40367061,  1.07250326],\n",
       "       [ 1.01958629, -1.27567304, -0.11268786],\n",
       "       [-1.72701642, -0.35739289,  0.94875182],\n",
       "       [ 0.93109798, -0.28631129,  0.02210129],\n",
       "       [-0.93569772, -0.60431061, -0.40009193],\n",
       "       [ 1.26290943, -1.4550585 , -0.32997753],\n",
       "       [ 0.04659013,  0.49664406, -0.77540122],\n",
       "       [ 1.0456669 , -0.30040383, -0.14384263],\n",
       "       [ 1.12918152,  0.3682981 , -0.14384263],\n",
       "       [-0.82328646, -0.35021379,  0.63883163],\n",
       "       [ 1.54129731,  0.43876195,  0.72697352],\n",
       "       [-0.29553337, -0.25134036,  0.55531415],\n",
       "       [-0.48404243, -1.71918898,  0.19878164],\n",
       "       [ 1.28829734, -0.07502706, -2.3009279 ],\n",
       "       [-0.50245749, -1.7342107 , -1.21363852],\n",
       "       [ 1.52114819, -1.3853128 , -1.10956349],\n",
       "       [ 1.3004967 ,  1.2675887 , -1.47353812],\n",
       "       [-0.76905257,  1.53874417,  0.81577236],\n",
       "       [-1.21245403,  0.34455612,  0.41647213],\n",
       "       [ 0.92816503,  0.95701091,  0.28655084],\n",
       "       [ 0.67493776,  0.07409584,  0.26925889],\n",
       "       [ 0.41309098,  0.72671408,  0.55917021],\n",
       "       [ 1.54769995,  0.40367061, -1.94824648],\n",
       "       [ 0.71920943, -0.95499286,  0.03175842],\n",
       "       [-1.50359538,  0.28462118,  0.73058277],\n",
       "       [ 0.39319467,  0.08679116,  0.26491595],\n",
       "       [-0.57689562, -0.82396106,  0.44083242],\n",
       "       [ 1.04373768,  1.15250515, -0.3882273 ],\n",
       "       [ 0.92033882, -0.36458821,  0.95872123],\n",
       "       [-0.87294338, -0.67550361,  0.48487707],\n",
       "       [ 0.64764492, -1.50354208,  0.39598484],\n",
       "       [-0.44500506, -0.84958728, -1.65557928],\n",
       "       [ 0.81395585,  1.16260524,  0.59361438],\n",
       "       [ 0.47140703,  1.38529598,  1.23669434],\n",
       "       [ 1.2610261 ,  0.46779569, -0.54864922],\n",
       "       [ 0.63852563,  1.53874417,  1.27561294],\n",
       "       [-1.85624738,  0.42709558,  0.66114717],\n",
       "       [-0.02802214, -0.12834141, -0.50407434],\n",
       "       [ 0.75824197,  1.54820925,  0.52034242],\n",
       "       [ 0.75724354,  0.50813245, -1.0383616 ],\n",
       "       [-1.05927427, -1.64727037, -0.22385114],\n",
       "       [ 1.24783212,  1.21283741,  1.11363863],\n",
       "       [ 1.03794746, -0.38627294,  0.07469797],\n",
       "       [-0.41714955,  0.51386586, -1.1187144 ],\n",
       "       [-0.08546826,  1.21783637,  0.14904763],\n",
       "       [-0.84467375, -0.87549189, -2.13989562],\n",
       "       [-1.39531449,  0.21769395, -1.87511149],\n",
       "       [ 0.0066178 , -0.45966823, -0.96213706],\n",
       "       [ 1.01958629,  0.39191142, -0.89742479],\n",
       "       [ 0.81792069,  1.2725405 ,  0.06996793],\n",
       "       [ 0.64055308,  0.5708121 ,  0.55917021],\n",
       "       [-0.3321763 , -0.4745618 ,  0.27359381],\n",
       "       [-1.47420382,  0.70474737, -0.34148817],\n",
       "       [-0.10474749, -1.21318999,  0.25620584],\n",
       "       [ 0.7841573 ,  0.21769395, -0.73905917],\n",
       "       [-1.65352738,  1.26263268,  2.04815051],\n",
       "       [-1.46224158, -1.70439494, -0.2622951 ],\n",
       "       [-0.20680098,  0.45039797, -0.6617535 ],\n",
       "       [-1.90271957,  0.53102334, -1.02969885],\n",
       "       [-0.25915513, -1.01885558, -0.13340587],\n",
       "       [-0.74679627,  0.34455612, -0.17547236],\n",
       "       [ 1.04277291, -1.3853128 ,  0.48884262],\n",
       "       [-0.76118235, -0.05523482,  0.30798909],\n",
       "       [-0.85272745,  1.30216339,  0.43678912],\n",
       "       [ 0.78515237,  1.22782124,  0.3628413 ],\n",
       "       [ 0.58051341, -0.1824681 ,  1.44060601],\n",
       "       [-0.74810183,  0.39191142, -0.54221412],\n",
       "       [-0.32151022,  1.10682827,  1.36933062],\n",
       "       [-0.59445094,  0.27253204,  1.65051711],\n",
       "       [-0.3321763 ,  1.46250027,  1.00804463],\n",
       "       [-0.04935604, -1.29701657, -1.0383616 ],\n",
       "       [-1.44360046, -1.71918898,  0.32923537],\n",
       "       [ 0.8268345 ,  0.7321905 ,  1.24572053],\n",
       "       [ 1.14922339,  0.89377076,  1.62135837],\n",
       "       [-0.36073275, -0.49704225, -0.90536871],\n",
       "       [ 0.26831445,  0.62707446,  1.05652433],\n",
       "       [ 0.62533398, -1.4550585 , -1.36978444],\n",
       "       [ 0.49522053, -0.00946213, -0.19147147],\n",
       "       [ 1.51197614,  1.19279775,  1.00151777],\n",
       "       [-0.03924063,  1.16260524,  0.82275121],\n",
       "       [ 0.87322688, -1.36277082,  0.95540204],\n",
       "       [ 1.57327016,  0.88315609,  2.14593479],\n",
       "       [ 1.42441703, -0.80702634, -0.22385114],\n",
       "       [ 0.52616407, -0.26528466, -0.4240454 ],\n",
       "       [ 1.02732204,  0.77578583, -1.43797106],\n",
       "       [-0.00900053,  1.39500055,  1.24572053],\n",
       "       [-1.50533991, -0.73221674,  0.18532473],\n",
       "       [-0.56814506, -1.91962741, -0.12820706],\n",
       "       [-1.72906885, -1.90076688, -0.00712946],\n",
       "       [ 1.19202117,  0.35644335, -1.41482358],\n",
       "       [ 0.90662534, -0.97304835,  1.1696512 ],\n",
       "       [ 1.06108536,  0.97270342, -0.12820706],\n",
       "       [ 0.39948386, -0.39353456, -1.84060473],\n",
       "       [ 0.74625251, -0.0355487 , -0.9213781 ],\n",
       "       [-0.72337219,  1.41436293,  0.39186661],\n",
       "       [-0.76380392,  0.81362329,  1.05010775],\n",
       "       [ 0.00550359, -0.4745618 , -0.00712946],\n",
       "       [-0.74679627, -1.82997283, -0.62100262],\n",
       "       [-0.1469415 ,  0.91493549,  1.8001232 ],\n",
       "       [-1.60617806, -0.35021379, -0.17547236],\n",
       "       [ 0.02885793,  0.35050382,  0.83318595],\n",
       "       [-1.61739376,  0.0357579 ,  0.97525853],\n",
       "       [ 0.88896054, -1.59299019, -0.56809334],\n",
       "       [-0.17678774,  0.79203663, -0.79016336],\n",
       "       [ 0.94281959,  0.66606674,  1.67156066],\n",
       "       [-0.60829585, -0.66750027,  0.00753503],\n",
       "       [-1.84451116,  1.01950683,  0.9818463 ],\n",
       "       [-0.69751107, -1.9798635 , -1.04707517],\n",
       "       [ 0.85253082,  1.51977089, -1.71361882],\n",
       "       [-0.9730961 , -0.65156482,  0.72335935],\n",
       "       [-2.04026249,  1.05563142, -1.09143431],\n",
       "       [ 1.2845405 , -1.52845902,  0.71974023],\n",
       "       [-1.83065941,  0.37421339, -1.89285349],\n",
       "       [ 0.84759549,  0.7321905 ,  0.79472708],\n",
       "       [-1.30833884,  1.0039509 ,  1.4377862 ],\n",
       "       [-1.1347862 ,  1.42402092, -1.10956349],\n",
       "       [-1.49489926,  1.02468221, -1.0383616 ],\n",
       "       [ 1.36405418,  0.47358005,  1.26667643],\n",
       "       [-1.2139708 ,  0.2966758 , -0.273416  ],\n",
       "       [ 0.49522053,  1.2725405 , -1.96750173],\n",
       "       [-0.78616198, -0.27928757, -0.75350129],\n",
       "       [ 0.58562018,  0.83511859,  1.70806464],\n",
       "       [ 0.85450412,  0.71574298,  0.52815593],\n",
       "       [-0.39426242, -1.21318999,  0.38774138],\n",
       "       [-0.49631074, -0.43746469,  0.56686482],\n",
       "       [ 0.01774834, -1.66126392, -1.06465804],\n",
       "       [ 1.0456669 , -1.05622936, -1.09143431],\n",
       "       [ 1.07551559,  1.51977089,  0.76640833],\n",
       "       [-1.29103896,  1.09151903, -0.8276594 ],\n",
       "       [-1.18830853,  0.29065278, -0.26784779],\n",
       "       [ 1.42904484, -0.50457379,  0.49280187],\n",
       "       [-0.20101603, -0.95499286,  0.91862812],\n",
       "       [ 0.62533398,  0.13716541, -0.6617535 ],\n",
       "       [ 0.35322947,  1.0607726 ,  0.52034242],\n",
       "       [ 0.52513474, -0.00296885, -1.02108616],\n",
       "       [-1.93665721, -0.68353104, -1.39210142],\n",
       "       [-0.52465633,  1.25270792,  0.97855434],\n",
       "       [ 0.12246872, -1.74947332, -0.0718552 ],\n",
       "       [-1.75822712,  0.91493549,  0.79824604],\n",
       "       [-0.07867963, -0.1824681 ,  0.39598484],\n",
       "       [ 0.36587519, -0.20298441,  0.22987885],\n",
       "       [-0.62724967,  0.85652391,  0.93874673],\n",
       "       [ 0.53130856, -0.20298441, -0.00712946],\n",
       "       [ 0.27045056,  0.90965233, -1.21363852],\n",
       "       [-0.24514238, -0.44484785, -1.42634283],\n",
       "       [ 0.99148599, -1.46701964,  1.93850226],\n",
       "       [-1.63438885,  0.95176976, -0.21300048],\n",
       "       [ 0.71820605, -1.26510158, -0.33572435],\n",
       "       [ 0.80403524,  0.15589202,  1.20336238],\n",
       "       [ 1.46230082, -0.76519122, -1.31564539],\n",
       "       [-1.10987617, -0.68353104, -0.3941504 ],\n",
       "       [ 0.28112073, -0.01596668,  0.87452999],\n",
       "       [-1.60245911, -0.06841773, -0.47908137],\n",
       "       [ 0.32257166, -1.07517365, -0.76076934],\n",
       "       [ 0.87322688, -1.46701964, -0.73905917],\n",
       "       [ 1.39381826,  1.51501853,  0.67591865],\n",
       "       [ 1.12535894,  0.54811736, -0.28459943],\n",
       "       [ 0.34161695, -1.00961537,  0.42054903],\n",
       "       [ 1.39196069, -1.60632069, -0.10240526],\n",
       "       [ 0.29283811, -0.81547901, -0.44221172],\n",
       "       [ 0.19634785, -1.56676988, -1.12792417],\n",
       "       [ 0.83474968, -1.2441519 ,  0.07941795],\n",
       "       [-1.02082882, -1.21318999,  0.18532473],\n",
       "       [ 1.49268741,  1.22782124,  1.60801721],\n",
       "       [ 1.17682728,  0.00998415,  0.19878164],\n",
       "       [ 0.70012304,  1.33163754, -0.32424757],\n",
       "       [ 0.0088456 , -1.63345378,  0.04137316],\n",
       "       [ 0.55902662,  0.46200391, -0.40605203],\n",
       "       [ 1.47796614, -0.50457379, -1.64154906],\n",
       "       [-1.61927178, -0.64363221, -0.11784814],\n",
       "       [-1.267656  ,  1.13225036, -1.38089349],\n",
       "       [-0.75856261, -0.74865064, -1.35877199],\n",
       "       [-1.6477566 , -1.3853128 ,  0.26925889],\n",
       "       [ 0.30559723,  1.1777216 , -1.65557928],\n",
       "       [ 0.12137572,  0.84583242, -1.35877199],\n",
       "       [-1.28790757, -1.43143631, -0.68946203],\n",
       "       [-0.52094879, -1.29701657, -1.14652436],\n",
       "       [ 0.41309098, -0.87549189, -1.31564539],\n",
       "       [ 1.45584317,  1.1777216 ,  1.45466696],\n",
       "       [ 0.96816082, -0.93708342, -1.09143431]])"
      ]
     },
     "execution_count": 66,
     "metadata": {},
     "output_type": "execute_result"
    }
   ],
   "source": [
    "X_transformed"
   ]
  },
  {
   "cell_type": "code",
   "execution_count": 67,
   "id": "44e09316",
   "metadata": {},
   "outputs": [
    {
     "data": {
      "text/html": [
       "<div>\n",
       "<style scoped>\n",
       "    .dataframe tbody tr th:only-of-type {\n",
       "        vertical-align: middle;\n",
       "    }\n",
       "\n",
       "    .dataframe tbody tr th {\n",
       "        vertical-align: top;\n",
       "    }\n",
       "\n",
       "    .dataframe thead th {\n",
       "        text-align: right;\n",
       "    }\n",
       "</style>\n",
       "<table border=\"1\" class=\"dataframe\">\n",
       "  <thead>\n",
       "    <tr style=\"text-align: right;\">\n",
       "      <th></th>\n",
       "      <th>0</th>\n",
       "      <th>1</th>\n",
       "      <th>2</th>\n",
       "    </tr>\n",
       "  </thead>\n",
       "  <tbody>\n",
       "    <tr>\n",
       "      <th>0</th>\n",
       "      <td>0.948674</td>\n",
       "      <td>0.962247</td>\n",
       "      <td>1.537737</td>\n",
       "    </tr>\n",
       "    <tr>\n",
       "      <th>1</th>\n",
       "      <td>-1.191314</td>\n",
       "      <td>1.040179</td>\n",
       "      <td>0.794727</td>\n",
       "    </tr>\n",
       "    <tr>\n",
       "      <th>2</th>\n",
       "      <td>-1.647757</td>\n",
       "      <td>1.370710</td>\n",
       "      <td>1.540469</td>\n",
       "    </tr>\n",
       "    <tr>\n",
       "      <th>3</th>\n",
       "      <td>0.141020</td>\n",
       "      <td>1.142387</td>\n",
       "      <td>1.230662</td>\n",
       "    </tr>\n",
       "    <tr>\n",
       "      <th>4</th>\n",
       "      <td>0.452715</td>\n",
       "      <td>-0.748651</td>\n",
       "      <td>1.227641</td>\n",
       "    </tr>\n",
       "  </tbody>\n",
       "</table>\n",
       "</div>"
      ],
      "text/plain": [
       "          0         1         2\n",
       "0  0.948674  0.962247  1.537737\n",
       "1 -1.191314  1.040179  0.794727\n",
       "2 -1.647757  1.370710  1.540469\n",
       "3  0.141020  1.142387  1.230662\n",
       "4  0.452715 -0.748651  1.227641"
      ]
     },
     "execution_count": 67,
     "metadata": {},
     "output_type": "execute_result"
    }
   ],
   "source": [
    "X_transformed= pd.DataFrame(X_transformed)\n",
    "X_transformed.head()"
   ]
  },
  {
   "cell_type": "code",
   "execution_count": 68,
   "id": "1b7c5b64",
   "metadata": {},
   "outputs": [
    {
     "data": {
      "text/plain": [
       "0   -0.315199\n",
       "1   -0.242968\n",
       "2   -0.089919\n",
       "dtype: float64"
      ]
     },
     "execution_count": 68,
     "metadata": {},
     "output_type": "execute_result"
    }
   ],
   "source": [
    "X_transformed.skew()"
   ]
  },
  {
   "cell_type": "code",
   "execution_count": 69,
   "id": "50128603",
   "metadata": {},
   "outputs": [],
   "source": [
    "# It has reduced the skewness upto the required limit  -.5  to +.5"
   ]
  },
  {
   "cell_type": "code",
   "execution_count": 70,
   "id": "c5e0cdf9",
   "metadata": {},
   "outputs": [],
   "source": [
    "from sklearn.preprocessing import StandardScaler\n",
    "sc=StandardScaler()\n",
    "X_Scaled= sc.fit_transform(X_transformed)"
   ]
  },
  {
   "cell_type": "code",
   "execution_count": 71,
   "id": "a3a56da8",
   "metadata": {},
   "outputs": [
    {
     "data": {
      "text/plain": [
       "array([[ 0.94867429,  0.96224689,  1.53773716],\n",
       "       [-1.19131426,  1.0401788 ,  0.79472708],\n",
       "       [-1.6477566 ,  1.37070964,  1.54046897],\n",
       "       [ 0.14102023,  1.14238689,  1.23066168],\n",
       "       [ 0.45271493, -0.74865064,  1.22764076],\n",
       "       [-1.82382233,  1.51501853,  1.69246973],\n",
       "       [-1.00249116,  0.69372704, -0.11268786],\n",
       "       [-0.210275  , -0.10158544, -0.85057892],\n",
       "       [-1.82609501, -1.63345378, -2.11620688],\n",
       "       [ 0.64764492, -1.56676988, -0.23476035],\n",
       "       [-0.88377378, -1.20298758, -0.07691632],\n",
       "       [ 0.79708355,  0.18072579, -1.60050754],\n",
       "       [-1.52641627,  0.81900563,  1.44623798],\n",
       "       [-0.48036844, -1.02813642, -1.23342927],\n",
       "       [ 0.69106577,  0.6992403 ,  0.82623392],\n",
       "       [ 0.60295713,  1.45770359,  1.05652433],\n",
       "       [-0.86079972,  0.89906999,  2.14593479],\n",
       "       [ 1.4355201 ,  1.05563142,  1.14799585],\n",
       "       [-0.84199328, -0.04209908, -0.40009193],\n",
       "       [ 0.09508551,  0.17453165, -0.35306736],\n",
       "       [ 0.8337607 ,  0.40367061,  1.07250326],\n",
       "       [ 1.01958629, -1.27567304, -0.11268786],\n",
       "       [-1.72701642, -0.35739289,  0.94875182],\n",
       "       [ 0.93109798, -0.28631129,  0.02210129],\n",
       "       [-0.93569772, -0.60431061, -0.40009193],\n",
       "       [ 1.26290943, -1.4550585 , -0.32997753],\n",
       "       [ 0.04659013,  0.49664406, -0.77540122],\n",
       "       [ 1.0456669 , -0.30040383, -0.14384263],\n",
       "       [ 1.12918152,  0.3682981 , -0.14384263],\n",
       "       [-0.82328646, -0.35021379,  0.63883163],\n",
       "       [ 1.54129731,  0.43876195,  0.72697352],\n",
       "       [-0.29553337, -0.25134036,  0.55531415],\n",
       "       [-0.48404243, -1.71918898,  0.19878164],\n",
       "       [ 1.28829734, -0.07502706, -2.3009279 ],\n",
       "       [-0.50245749, -1.7342107 , -1.21363852],\n",
       "       [ 1.52114819, -1.3853128 , -1.10956349],\n",
       "       [ 1.3004967 ,  1.2675887 , -1.47353812],\n",
       "       [-0.76905257,  1.53874417,  0.81577236],\n",
       "       [-1.21245403,  0.34455612,  0.41647213],\n",
       "       [ 0.92816503,  0.95701091,  0.28655084],\n",
       "       [ 0.67493776,  0.07409584,  0.26925889],\n",
       "       [ 0.41309098,  0.72671408,  0.55917021],\n",
       "       [ 1.54769995,  0.40367061, -1.94824648],\n",
       "       [ 0.71920943, -0.95499286,  0.03175842],\n",
       "       [-1.50359538,  0.28462118,  0.73058277],\n",
       "       [ 0.39319467,  0.08679116,  0.26491595],\n",
       "       [-0.57689562, -0.82396106,  0.44083242],\n",
       "       [ 1.04373768,  1.15250515, -0.3882273 ],\n",
       "       [ 0.92033882, -0.36458821,  0.95872123],\n",
       "       [-0.87294338, -0.67550361,  0.48487707],\n",
       "       [ 0.64764492, -1.50354208,  0.39598484],\n",
       "       [-0.44500506, -0.84958728, -1.65557928],\n",
       "       [ 0.81395585,  1.16260524,  0.59361438],\n",
       "       [ 0.47140703,  1.38529598,  1.23669434],\n",
       "       [ 1.2610261 ,  0.46779569, -0.54864922],\n",
       "       [ 0.63852563,  1.53874417,  1.27561294],\n",
       "       [-1.85624738,  0.42709558,  0.66114717],\n",
       "       [-0.02802214, -0.12834141, -0.50407434],\n",
       "       [ 0.75824197,  1.54820925,  0.52034242],\n",
       "       [ 0.75724354,  0.50813245, -1.0383616 ],\n",
       "       [-1.05927427, -1.64727037, -0.22385114],\n",
       "       [ 1.24783212,  1.21283741,  1.11363863],\n",
       "       [ 1.03794746, -0.38627294,  0.07469797],\n",
       "       [-0.41714955,  0.51386586, -1.1187144 ],\n",
       "       [-0.08546826,  1.21783637,  0.14904763],\n",
       "       [-0.84467375, -0.87549189, -2.13989562],\n",
       "       [-1.39531449,  0.21769395, -1.87511149],\n",
       "       [ 0.0066178 , -0.45966823, -0.96213706],\n",
       "       [ 1.01958629,  0.39191142, -0.89742479],\n",
       "       [ 0.81792069,  1.2725405 ,  0.06996793],\n",
       "       [ 0.64055308,  0.5708121 ,  0.55917021],\n",
       "       [-0.3321763 , -0.4745618 ,  0.27359381],\n",
       "       [-1.47420382,  0.70474737, -0.34148817],\n",
       "       [-0.10474749, -1.21318999,  0.25620584],\n",
       "       [ 0.7841573 ,  0.21769395, -0.73905917],\n",
       "       [-1.65352738,  1.26263268,  2.04815051],\n",
       "       [-1.46224158, -1.70439494, -0.2622951 ],\n",
       "       [-0.20680098,  0.45039797, -0.6617535 ],\n",
       "       [-1.90271957,  0.53102334, -1.02969885],\n",
       "       [-0.25915513, -1.01885558, -0.13340587],\n",
       "       [-0.74679627,  0.34455612, -0.17547236],\n",
       "       [ 1.04277291, -1.3853128 ,  0.48884262],\n",
       "       [-0.76118235, -0.05523482,  0.30798909],\n",
       "       [-0.85272745,  1.30216339,  0.43678912],\n",
       "       [ 0.78515237,  1.22782124,  0.3628413 ],\n",
       "       [ 0.58051341, -0.1824681 ,  1.44060601],\n",
       "       [-0.74810183,  0.39191142, -0.54221412],\n",
       "       [-0.32151022,  1.10682827,  1.36933062],\n",
       "       [-0.59445094,  0.27253204,  1.65051711],\n",
       "       [-0.3321763 ,  1.46250027,  1.00804463],\n",
       "       [-0.04935604, -1.29701657, -1.0383616 ],\n",
       "       [-1.44360046, -1.71918898,  0.32923537],\n",
       "       [ 0.8268345 ,  0.7321905 ,  1.24572053],\n",
       "       [ 1.14922339,  0.89377076,  1.62135837],\n",
       "       [-0.36073275, -0.49704225, -0.90536871],\n",
       "       [ 0.26831445,  0.62707446,  1.05652433],\n",
       "       [ 0.62533398, -1.4550585 , -1.36978444],\n",
       "       [ 0.49522053, -0.00946213, -0.19147147],\n",
       "       [ 1.51197614,  1.19279775,  1.00151777],\n",
       "       [-0.03924063,  1.16260524,  0.82275121],\n",
       "       [ 0.87322688, -1.36277082,  0.95540204],\n",
       "       [ 1.57327016,  0.88315609,  2.14593479],\n",
       "       [ 1.42441703, -0.80702634, -0.22385114],\n",
       "       [ 0.52616407, -0.26528466, -0.4240454 ],\n",
       "       [ 1.02732204,  0.77578583, -1.43797106],\n",
       "       [-0.00900053,  1.39500055,  1.24572053],\n",
       "       [-1.50533991, -0.73221674,  0.18532473],\n",
       "       [-0.56814506, -1.91962741, -0.12820706],\n",
       "       [-1.72906885, -1.90076688, -0.00712946],\n",
       "       [ 1.19202117,  0.35644335, -1.41482358],\n",
       "       [ 0.90662534, -0.97304835,  1.1696512 ],\n",
       "       [ 1.06108536,  0.97270342, -0.12820706],\n",
       "       [ 0.39948386, -0.39353456, -1.84060473],\n",
       "       [ 0.74625251, -0.0355487 , -0.9213781 ],\n",
       "       [-0.72337219,  1.41436293,  0.39186661],\n",
       "       [-0.76380392,  0.81362329,  1.05010775],\n",
       "       [ 0.00550359, -0.4745618 , -0.00712946],\n",
       "       [-0.74679627, -1.82997283, -0.62100262],\n",
       "       [-0.1469415 ,  0.91493549,  1.8001232 ],\n",
       "       [-1.60617806, -0.35021379, -0.17547236],\n",
       "       [ 0.02885793,  0.35050382,  0.83318595],\n",
       "       [-1.61739376,  0.0357579 ,  0.97525853],\n",
       "       [ 0.88896054, -1.59299019, -0.56809334],\n",
       "       [-0.17678774,  0.79203663, -0.79016336],\n",
       "       [ 0.94281959,  0.66606674,  1.67156066],\n",
       "       [-0.60829585, -0.66750027,  0.00753503],\n",
       "       [-1.84451116,  1.01950683,  0.9818463 ],\n",
       "       [-0.69751107, -1.9798635 , -1.04707517],\n",
       "       [ 0.85253082,  1.51977089, -1.71361882],\n",
       "       [-0.9730961 , -0.65156482,  0.72335935],\n",
       "       [-2.04026249,  1.05563142, -1.09143431],\n",
       "       [ 1.2845405 , -1.52845902,  0.71974023],\n",
       "       [-1.83065941,  0.37421339, -1.89285349],\n",
       "       [ 0.84759549,  0.7321905 ,  0.79472708],\n",
       "       [-1.30833884,  1.0039509 ,  1.4377862 ],\n",
       "       [-1.1347862 ,  1.42402092, -1.10956349],\n",
       "       [-1.49489926,  1.02468221, -1.0383616 ],\n",
       "       [ 1.36405418,  0.47358005,  1.26667643],\n",
       "       [-1.2139708 ,  0.2966758 , -0.273416  ],\n",
       "       [ 0.49522053,  1.2725405 , -1.96750173],\n",
       "       [-0.78616198, -0.27928757, -0.75350129],\n",
       "       [ 0.58562018,  0.83511859,  1.70806464],\n",
       "       [ 0.85450412,  0.71574298,  0.52815593],\n",
       "       [-0.39426242, -1.21318999,  0.38774138],\n",
       "       [-0.49631074, -0.43746469,  0.56686482],\n",
       "       [ 0.01774834, -1.66126392, -1.06465804],\n",
       "       [ 1.0456669 , -1.05622936, -1.09143431],\n",
       "       [ 1.07551559,  1.51977089,  0.76640833],\n",
       "       [-1.29103896,  1.09151903, -0.8276594 ],\n",
       "       [-1.18830853,  0.29065278, -0.26784779],\n",
       "       [ 1.42904484, -0.50457379,  0.49280187],\n",
       "       [-0.20101603, -0.95499286,  0.91862812],\n",
       "       [ 0.62533398,  0.13716541, -0.6617535 ],\n",
       "       [ 0.35322947,  1.0607726 ,  0.52034242],\n",
       "       [ 0.52513474, -0.00296885, -1.02108616],\n",
       "       [-1.93665721, -0.68353104, -1.39210142],\n",
       "       [-0.52465633,  1.25270792,  0.97855434],\n",
       "       [ 0.12246872, -1.74947332, -0.0718552 ],\n",
       "       [-1.75822712,  0.91493549,  0.79824604],\n",
       "       [-0.07867963, -0.1824681 ,  0.39598484],\n",
       "       [ 0.36587519, -0.20298441,  0.22987885],\n",
       "       [-0.62724967,  0.85652391,  0.93874673],\n",
       "       [ 0.53130856, -0.20298441, -0.00712946],\n",
       "       [ 0.27045056,  0.90965233, -1.21363852],\n",
       "       [-0.24514238, -0.44484785, -1.42634283],\n",
       "       [ 0.99148599, -1.46701964,  1.93850226],\n",
       "       [-1.63438885,  0.95176976, -0.21300048],\n",
       "       [ 0.71820605, -1.26510158, -0.33572435],\n",
       "       [ 0.80403524,  0.15589202,  1.20336238],\n",
       "       [ 1.46230082, -0.76519122, -1.31564539],\n",
       "       [-1.10987617, -0.68353104, -0.3941504 ],\n",
       "       [ 0.28112073, -0.01596668,  0.87452999],\n",
       "       [-1.60245911, -0.06841773, -0.47908137],\n",
       "       [ 0.32257166, -1.07517365, -0.76076934],\n",
       "       [ 0.87322688, -1.46701964, -0.73905917],\n",
       "       [ 1.39381826,  1.51501853,  0.67591865],\n",
       "       [ 1.12535894,  0.54811736, -0.28459943],\n",
       "       [ 0.34161695, -1.00961537,  0.42054903],\n",
       "       [ 1.39196069, -1.60632069, -0.10240526],\n",
       "       [ 0.29283811, -0.81547901, -0.44221172],\n",
       "       [ 0.19634785, -1.56676988, -1.12792417],\n",
       "       [ 0.83474968, -1.2441519 ,  0.07941795],\n",
       "       [-1.02082882, -1.21318999,  0.18532473],\n",
       "       [ 1.49268741,  1.22782124,  1.60801721],\n",
       "       [ 1.17682728,  0.00998415,  0.19878164],\n",
       "       [ 0.70012304,  1.33163754, -0.32424757],\n",
       "       [ 0.0088456 , -1.63345378,  0.04137316],\n",
       "       [ 0.55902662,  0.46200391, -0.40605203],\n",
       "       [ 1.47796614, -0.50457379, -1.64154906],\n",
       "       [-1.61927178, -0.64363221, -0.11784814],\n",
       "       [-1.267656  ,  1.13225036, -1.38089349],\n",
       "       [-0.75856261, -0.74865064, -1.35877199],\n",
       "       [-1.6477566 , -1.3853128 ,  0.26925889],\n",
       "       [ 0.30559723,  1.1777216 , -1.65557928],\n",
       "       [ 0.12137572,  0.84583242, -1.35877199],\n",
       "       [-1.28790757, -1.43143631, -0.68946203],\n",
       "       [-0.52094879, -1.29701657, -1.14652436],\n",
       "       [ 0.41309098, -0.87549189, -1.31564539],\n",
       "       [ 1.45584317,  1.1777216 ,  1.45466696],\n",
       "       [ 0.96816082, -0.93708342, -1.09143431]])"
      ]
     },
     "execution_count": 71,
     "metadata": {},
     "output_type": "execute_result"
    }
   ],
   "source": [
    "X_Scaled"
   ]
  },
  {
   "cell_type": "code",
   "execution_count": 72,
   "id": "2c634393",
   "metadata": {},
   "outputs": [
    {
     "data": {
      "text/plain": [
       "(200, 3)"
      ]
     },
     "execution_count": 72,
     "metadata": {},
     "output_type": "execute_result"
    }
   ],
   "source": [
    "X_Scaled.shape"
   ]
  },
  {
   "cell_type": "code",
   "execution_count": 73,
   "id": "9e3c9afe",
   "metadata": {},
   "outputs": [
    {
     "data": {
      "text/plain": [
       "(200, 1)"
      ]
     },
     "execution_count": 73,
     "metadata": {},
     "output_type": "execute_result"
    }
   ],
   "source": [
    "Y.shape"
   ]
  },
  {
   "cell_type": "code",
   "execution_count": 95,
   "id": "7ba9e6f2",
   "metadata": {},
   "outputs": [],
   "source": [
    "# Its a Regression problem coz output variable have continuous data\n",
    "from sklearn.model_selection import train_test_split\n",
    "from sklearn.linear_model import LinearRegression\n",
    "from sklearn.metrics import r2_score,mean_absolute_error,mean_squared_error\n",
    "LR= LinearRegression()"
   ]
  },
  {
   "cell_type": "code",
   "execution_count": 75,
   "id": "7070ae77",
   "metadata": {},
   "outputs": [],
   "source": [
    "# Train Test Split"
   ]
  },
  {
   "cell_type": "code",
   "execution_count": 96,
   "id": "c1596b75",
   "metadata": {},
   "outputs": [
    {
     "name": "stdout",
     "output_type": "stream",
     "text": [
      "At random state  5 The model performance very well\n",
      "At random state:  5\n",
      "Test R2 score is:  0.91\n",
      "Train R2 score is:  0.91\n",
      "XXXXXXXXXXXXXXXXXXXXXXXXXXXXXXXXXXXXXXXXXXXXXXXXXX \n",
      "\n",
      "At random state  21 The model performance very well\n",
      "At random state:  21\n",
      "Test R2 score is:  0.91\n",
      "Train R2 score is:  0.91\n",
      "XXXXXXXXXXXXXXXXXXXXXXXXXXXXXXXXXXXXXXXXXXXXXXXXXX \n",
      "\n",
      "At random state  23 The model performance very well\n",
      "At random state:  23\n",
      "Test R2 score is:  0.91\n",
      "Train R2 score is:  0.91\n",
      "XXXXXXXXXXXXXXXXXXXXXXXXXXXXXXXXXXXXXXXXXXXXXXXXXX \n",
      "\n",
      "At random state  27 The model performance very well\n",
      "At random state:  27\n",
      "Test R2 score is:  0.91\n",
      "Train R2 score is:  0.91\n",
      "XXXXXXXXXXXXXXXXXXXXXXXXXXXXXXXXXXXXXXXXXXXXXXXXXX \n",
      "\n",
      "At random state  28 The model performance very well\n",
      "At random state:  28\n",
      "Test R2 score is:  0.91\n",
      "Train R2 score is:  0.91\n",
      "XXXXXXXXXXXXXXXXXXXXXXXXXXXXXXXXXXXXXXXXXXXXXXXXXX \n",
      "\n",
      "At random state  45 The model performance very well\n",
      "At random state:  45\n",
      "Test R2 score is:  0.91\n",
      "Train R2 score is:  0.91\n",
      "XXXXXXXXXXXXXXXXXXXXXXXXXXXXXXXXXXXXXXXXXXXXXXXXXX \n",
      "\n",
      "At random state  86 The model performance very well\n",
      "At random state:  86\n",
      "Test R2 score is:  0.91\n",
      "Train R2 score is:  0.91\n",
      "XXXXXXXXXXXXXXXXXXXXXXXXXXXXXXXXXXXXXXXXXXXXXXXXXX \n",
      "\n",
      "At random state  112 The model performance very well\n",
      "At random state:  112\n",
      "Test R2 score is:  0.91\n",
      "Train R2 score is:  0.91\n",
      "XXXXXXXXXXXXXXXXXXXXXXXXXXXXXXXXXXXXXXXXXXXXXXXXXX \n",
      "\n",
      "At random state  113 The model performance very well\n",
      "At random state:  113\n",
      "Test R2 score is:  0.91\n",
      "Train R2 score is:  0.91\n",
      "XXXXXXXXXXXXXXXXXXXXXXXXXXXXXXXXXXXXXXXXXXXXXXXXXX \n",
      "\n",
      "At random state  125 The model performance very well\n",
      "At random state:  125\n",
      "Test R2 score is:  0.9\n",
      "Train R2 score is:  0.9\n",
      "XXXXXXXXXXXXXXXXXXXXXXXXXXXXXXXXXXXXXXXXXXXXXXXXXX \n",
      "\n",
      "At random state  131 The model performance very well\n",
      "At random state:  131\n",
      "Test R2 score is:  0.91\n",
      "Train R2 score is:  0.91\n",
      "XXXXXXXXXXXXXXXXXXXXXXXXXXXXXXXXXXXXXXXXXXXXXXXXXX \n",
      "\n",
      "At random state  134 The model performance very well\n",
      "At random state:  134\n",
      "Test R2 score is:  0.91\n",
      "Train R2 score is:  0.91\n",
      "XXXXXXXXXXXXXXXXXXXXXXXXXXXXXXXXXXXXXXXXXXXXXXXXXX \n",
      "\n",
      "At random state  152 The model performance very well\n",
      "At random state:  152\n",
      "Test R2 score is:  0.91\n",
      "Train R2 score is:  0.91\n",
      "XXXXXXXXXXXXXXXXXXXXXXXXXXXXXXXXXXXXXXXXXXXXXXXXXX \n",
      "\n",
      "At random state  190 The model performance very well\n",
      "At random state:  190\n",
      "Test R2 score is:  0.91\n",
      "Train R2 score is:  0.91\n",
      "XXXXXXXXXXXXXXXXXXXXXXXXXXXXXXXXXXXXXXXXXXXXXXXXXX \n",
      "\n",
      "At random state  191 The model performance very well\n",
      "At random state:  191\n",
      "Test R2 score is:  0.91\n",
      "Train R2 score is:  0.91\n",
      "XXXXXXXXXXXXXXXXXXXXXXXXXXXXXXXXXXXXXXXXXXXXXXXXXX \n",
      "\n"
     ]
    }
   ],
   "source": [
    "for i in range(0,200):\n",
    "    x_train,x_test,y_train,y_test= train_test_split(X_Scaled,Y,random_state=i,test_size=.2)\n",
    "    LR.fit(x_train,y_train)\n",
    "    train_pred=LR.predict(x_train)\n",
    "    test_pred=LR.predict(x_test)\n",
    "    if round(r2_score(y_test,test_pred),2)==round(r2_score(y_train,train_pred),2):\n",
    "        print(\"At random state \", i, \"The model performance very well\")\n",
    "        print(\"At random state: \",i)\n",
    "        print(\"Test R2 score is: \", round(r2_score(y_test,test_pred),2))\n",
    "        print('Train R2 score is: ', round(r2_score(y_train,train_pred),2))\n",
    "        print('X'*50,'\\n')"
   ]
  },
  {
   "cell_type": "code",
   "execution_count": 132,
   "id": "a573b032",
   "metadata": {},
   "outputs": [
    {
     "data": {
      "text/plain": [
       "LinearRegression()"
      ]
     },
     "execution_count": 132,
     "metadata": {},
     "output_type": "execute_result"
    }
   ],
   "source": [
    "# Lets take random state 27\n",
    "\n",
    "x_train,x_test,y_train,y_test= train_test_split(X_Scaled,Y,random_state=27,test_size=.2)\n",
    "LR.fit(x_train,y_train)"
   ]
  },
  {
   "cell_type": "code",
   "execution_count": 133,
   "id": "3fe63c6b",
   "metadata": {},
   "outputs": [],
   "source": [
    "from sklearn.linear_model import LinearRegression\n",
    "from sklearn.linear_model import Ridge, Lasso\n",
    "from sklearn.tree import DecisionTreeRegressor\n",
    "from sklearn.svm import SVR\n",
    "from sklearn.neighbors import KNeighborsRegressor\n",
    "from sklearn.ensemble import RandomForestRegressor\n"
   ]
  },
  {
   "cell_type": "code",
   "execution_count": 134,
   "id": "6d8f1cae",
   "metadata": {},
   "outputs": [],
   "source": [
    "LR_model= LinearRegression()\n",
    "RD_model= Ridge()\n",
    "LS_model= Lasso()\n",
    "DT_model= DecisionTreeRegressor()\n",
    "SV_model= SVR()\n",
    "KNR_model= KNeighborsRegressor()\n",
    "RFR_model= RandomForestRegressor()\n",
    "\n",
    "\n",
    "\n",
    "model=[LR_model,RD_model,LS_model,DT_model,SV_model,KNR_model,RFR_model ]"
   ]
  },
  {
   "cell_type": "code",
   "execution_count": 101,
   "id": "77ab1868",
   "metadata": {},
   "outputs": [],
   "source": [
    "#R2 Score of RandomForestRegressor() model 98.29003862557005\n",
    "\n",
    "\n",
    "# Although Random Forest have highest R2 score and least mean squared error"
   ]
  },
  {
   "cell_type": "code",
   "execution_count": 93,
   "id": "93c7747a",
   "metadata": {},
   "outputs": [],
   "source": [
    "#Cross Validation"
   ]
  },
  {
   "cell_type": "code",
   "execution_count": 135,
   "id": "c8c36358",
   "metadata": {},
   "outputs": [],
   "source": [
    "from sklearn.model_selection import cross_val_score"
   ]
  },
  {
   "cell_type": "code",
   "execution_count": null,
   "id": "cfe7f757",
   "metadata": {},
   "outputs": [],
   "source": [
    "for i in model:\n",
    "    print('mean_square of ',i, 'model',mean_squared_error(y_test,i.predict(x_test)))\n",
    "    print(\"cross Validation score of \",i ,\" is \",cross_val_score(i,X,Y,cv=5, scoring='neg_mean_squared_error').mean())\n",
    "    print('*'*50)"
   ]
  },
  {
   "cell_type": "code",
   "execution_count": null,
   "id": "707f6f0d",
   "metadata": {},
   "outputs": [],
   "source": [
    "mean_square of  LinearRegression() model 2.1363915270415808\n",
    "cross Validation score of  LinearRegression()  is  -3.0734693554442885\n",
    "**************************************************\n",
    "mean_square of  Ridge() model 2.14589050052017\n",
    "cross Validation score of  Ridge()  is  -3.0734548811968248\n",
    "**************************************************\n",
    "mean_square of  Lasso() model 3.9529077136547484\n",
    "cross Validation score of  Lasso()  is  -3.041024948445238\n",
    "**************************************************\n",
    "mean_square of  DecisionTreeRegressor() model 1.3475000000000001\n",
    "cross Validation score of  DecisionTreeRegressor()  is  -1.17275\n",
    "**************************************************\n",
    "mean_square of  SVR() model 1.5559080695673104\n",
    "cross Validation score of  SVR()  is  -4.2249828715755005\n",
    "**************************************************\n",
    "mean_square of  KNeighborsRegressor() model 0.86357\n",
    "cross Validation score of  KNeighborsRegressor()  is  -2.4629179999999993\n",
    "**************************************************\n",
    "mean_square of  RandomForestRegressor() model 0.41658250000000124\n",
    "cross Validation score of  RandomForestRegressor()  is  -0.666380669999997\n"
   ]
  },
  {
   "cell_type": "code",
   "execution_count": null,
   "id": "fe839239",
   "metadata": {},
   "outputs": [],
   "source": []
  },
  {
   "cell_type": "code",
   "execution_count": 105,
   "id": "ee28c8d5",
   "metadata": {},
   "outputs": [],
   "source": [
    "#mean_square of  RandomForestRegressor() model 0.41658250000000124\n",
    "# cross Validation score of  RandomForestRegressor()  is  -0.666380669999997\n",
    "# R2 Score of RandomForestRegressor() model 98.29003862557005\n",
    "\n",
    "# RandomForestRegressor is giving the best result here"
   ]
  },
  {
   "cell_type": "code",
   "execution_count": 82,
   "id": "ace2648a",
   "metadata": {},
   "outputs": [],
   "source": [
    "#Hyperparameter tuning of Random FOrest"
   ]
  },
  {
   "cell_type": "code",
   "execution_count": 108,
   "id": "857487e4",
   "metadata": {},
   "outputs": [
    {
     "data": {
      "text/plain": [
       "{'n_estimators': [200, 400, 600, 800, 1000, 1200, 1400, 1600, 1800, 2000],\n",
       " 'max_features': ['auto', 'sqrt', 'log2'],\n",
       " 'max_depth': [10, 64, 118, 173, 227, 282, 336, 391, 445, 500],\n",
       " 'min_samples_split': [1, 2, 3],\n",
       " 'min_samples_leaf': [1, 3, 4, 6, 7, 9],\n",
       " 'criterion': ['entropy', 'gini']}"
      ]
     },
     "execution_count": 108,
     "metadata": {},
     "output_type": "execute_result"
    }
   ],
   "source": [
    "import numpy as np\n",
    "from sklearn.model_selection import RandomizedSearchCV\n",
    "\n",
    "n_estimator= [int(x) for x in np.linspace(200,2000,10)]  # no of tree in Random forest, default is 100\n",
    "max_features= ['auto','sqrt','log2']  # mini no of features to create Decission Tree\n",
    "max_depth=[int(x) for x in np.linspace(10,500,10)]  #  Max depth of decision tree\n",
    "min_samples_split= [1,2,3]   # mini no of sample rerquired to split node\n",
    "min_samples_leaf= [1,3,4,6,7,9]  #mini no of sample required at each leaf node\n",
    "\n",
    "random_grid= {'n_estimators': n_estimator,\n",
    "             'max_features':max_features,\n",
    "             'max_depth':max_depth,\n",
    "             'min_samples_split':min_samples_split,\n",
    "             'min_samples_leaf':min_samples_leaf,\n",
    "             'criterion':['entropy','gini']}\n",
    "random_grid"
   ]
  },
  {
   "cell_type": "code",
   "execution_count": null,
   "id": "e0479566",
   "metadata": {},
   "outputs": [],
   "source": [
    "#randomCV =RandomizedSearchCV(RFR_model,param_distributions=random_grid,n_iter=200,cv=5,random_state=100,verbose=2,n_jobs=-1)\n",
    "#randomCV.fit(x_train,y_train)\n",
    "\n",
    "# Got error with this code"
   ]
  },
  {
   "cell_type": "code",
   "execution_count": 109,
   "id": "464a5665",
   "metadata": {},
   "outputs": [
    {
     "data": {
      "text/plain": [
       "{'n_estimators': [200, 400, 600, 800, 1000, 1200, 1400, 1600, 1800, 2000],\n",
       " 'max_features': ['auto', 'sqrt', 'log2'],\n",
       " 'max_depth': [10, 64, 118, 173, 227, 282, 336, 391, 445, 500],\n",
       " 'min_samples_split': [1, 2, 3],\n",
       " 'min_samples_leaf': [1, 3, 4, 6, 7, 9]}"
      ]
     },
     "execution_count": 109,
     "metadata": {},
     "output_type": "execute_result"
    }
   ],
   "source": [
    "import numpy as np\n",
    "from sklearn.model_selection import RandomizedSearchCV\n",
    "\n",
    "n_estimator= [200, 400, 600, 800, 1000, 1200, 1400, 1600, 1800, 2000]  # no of tree in Random forest, default is 100\n",
    "max_features= ['auto','sqrt','log2']  # mini no of features to create Decission Tree\n",
    "max_depth=[10, 64, 118, 173, 227, 282, 336, 391, 445, 500]  #  Max depth of decision tree\n",
    "min_samples_split= [1,2,3]   # mini no of sample rerquired to split node\n",
    "min_samples_leaf= [1,3,4,6,7,9]  #mini no of sample required at each leaf node\n",
    "\n",
    "random_grid= {'n_estimators': n_estimator,\n",
    "             'max_features':max_features,\n",
    "             'max_depth':max_depth,\n",
    "             'min_samples_split':min_samples_split,\n",
    "             'min_samples_leaf':min_samples_leaf,\n",
    "             }\n",
    "random_grid"
   ]
  },
  {
   "cell_type": "code",
   "execution_count": 110,
   "id": "9617e7b9",
   "metadata": {},
   "outputs": [
    {
     "name": "stdout",
     "output_type": "stream",
     "text": [
      "Fitting 5 folds for each of 200 candidates, totalling 1000 fits\n"
     ]
    },
    {
     "data": {
      "text/plain": [
       "RandomizedSearchCV(cv=5, estimator=RandomForestRegressor(), n_iter=200,\n",
       "                   n_jobs=-1,\n",
       "                   param_distributions={'max_depth': [10, 64, 118, 173, 227,\n",
       "                                                      282, 336, 391, 445, 500],\n",
       "                                        'max_features': ['auto', 'sqrt',\n",
       "                                                         'log2'],\n",
       "                                        'min_samples_leaf': [1, 3, 4, 6, 7, 9],\n",
       "                                        'min_samples_split': [1, 2, 3],\n",
       "                                        'n_estimators': [200, 400, 600, 800,\n",
       "                                                         1000, 1200, 1400, 1600,\n",
       "                                                         1800, 2000]},\n",
       "                   random_state=100, verbose=2)"
      ]
     },
     "execution_count": 110,
     "metadata": {},
     "output_type": "execute_result"
    }
   ],
   "source": [
    "# n_iter=  how many combinations your want to iterate\n",
    "# n_jobs=-1  to use full processor\n",
    "\n",
    "randomCV =RandomizedSearchCV(RFR_model,param_distributions=random_grid,n_iter=200,cv=5,random_state=100,verbose=2,n_jobs=-1)\n",
    "randomCV.fit(x_train,y_train)"
   ]
  },
  {
   "cell_type": "code",
   "execution_count": 111,
   "id": "25a7023a",
   "metadata": {},
   "outputs": [
    {
     "data": {
      "text/plain": [
       "RandomForestRegressor(max_depth=445, min_samples_split=3, n_estimators=1600)"
      ]
     },
     "execution_count": 111,
     "metadata": {},
     "output_type": "execute_result"
    }
   ],
   "source": [
    "randomCV.best_estimator_"
   ]
  },
  {
   "cell_type": "code",
   "execution_count": 112,
   "id": "11eef3e5",
   "metadata": {},
   "outputs": [
    {
     "data": {
      "text/plain": [
       "{'n_estimators': 1600,\n",
       " 'min_samples_split': 3,\n",
       " 'min_samples_leaf': 1,\n",
       " 'max_features': 'auto',\n",
       " 'max_depth': 445}"
      ]
     },
     "execution_count": 112,
     "metadata": {},
     "output_type": "execute_result"
    }
   ],
   "source": [
    "randomCV.best_params_"
   ]
  },
  {
   "cell_type": "code",
   "execution_count": 113,
   "id": "9040c68e",
   "metadata": {},
   "outputs": [],
   "source": [
    "best_random_grid= randomCV.best_estimator_"
   ]
  },
  {
   "cell_type": "code",
   "execution_count": 114,
   "id": "ea56e6b4",
   "metadata": {},
   "outputs": [],
   "source": [
    "random_predict=best_random_grid.predict(x_test)"
   ]
  },
  {
   "cell_type": "code",
   "execution_count": 115,
   "id": "b8f34671",
   "metadata": {},
   "outputs": [
    {
     "name": "stdout",
     "output_type": "stream",
     "text": [
      "mean_square_error of GrieSearchCV model 0.4072162251408759\n",
      "R2 Score of Grid Search CV model 98.32848471543555\n"
     ]
    }
   ],
   "source": [
    "print('mean_square_error of GrieSearchCV model' , mean_squared_error(y_test,random_predict))\n",
    "print('R2 Score of Grid Search CV model', r2_score(y_test,random_predict )*100)"
   ]
  },
  {
   "cell_type": "code",
   "execution_count": 116,
   "id": "12d9eaf2",
   "metadata": {},
   "outputs": [],
   "source": [
    "#mean_square_error of GridSearchCV model 0.39582877436221164\n",
    "#R2 Score of Grid Search CV model 98.37522719978075\n",
    "#Mean squared error : 0.39582877436221164\n",
    "#R2 score : 98.37522719978075"
   ]
  },
  {
   "cell_type": "code",
   "execution_count": 117,
   "id": "99e256e4",
   "metadata": {},
   "outputs": [],
   "source": [
    "#Grid Search CV"
   ]
  },
  {
   "cell_type": "code",
   "execution_count": 119,
   "id": "c31875ef",
   "metadata": {},
   "outputs": [],
   "source": [
    "from sklearn.model_selection import GridSearchCV"
   ]
  },
  {
   "cell_type": "code",
   "execution_count": 120,
   "id": "ee6015dd",
   "metadata": {},
   "outputs": [],
   "source": [
    "param_grid={'n_estimators': [randomCV.best_params_['n_estimators'] - 200, randomCV.best_params_['n_estimators'] - 100, \n",
    "                     randomCV.best_params_['n_estimators'], \n",
    "                     randomCV.best_params_['n_estimators'] + 100, randomCV.best_params_['n_estimators'] + 200],\n",
    "           'min_samples_split': [randomCV.best_params_['min_samples_split'] - 2,\n",
    "                          randomCV.best_params_['min_samples_split'] - 1,\n",
    "                          randomCV.best_params_['min_samples_split'], \n",
    "                          randomCV.best_params_['min_samples_split'] +1,\n",
    "                          randomCV.best_params_['min_samples_split'] + 2],\n",
    "           'min_samples_leaf': [randomCV.best_params_['min_samples_leaf'], \n",
    "                         randomCV.best_params_['min_samples_leaf']+2, \n",
    "                         randomCV.best_params_['min_samples_leaf'] + 4],\n",
    "           'max_features': [randomCV.best_params_['max_features']],\n",
    "           'max_depth': [randomCV.best_params_['max_depth']]}"
   ]
  },
  {
   "cell_type": "code",
   "execution_count": 121,
   "id": "be2d8338",
   "metadata": {},
   "outputs": [
    {
     "name": "stdout",
     "output_type": "stream",
     "text": [
      "Fitting 10 folds for each of 75 candidates, totalling 750 fits\n"
     ]
    },
    {
     "data": {
      "text/plain": [
       "GridSearchCV(cv=10, estimator=RandomForestRegressor(), n_jobs=-1,\n",
       "             param_grid={'max_depth': [445], 'max_features': ['auto'],\n",
       "                         'min_samples_leaf': [1, 3, 5],\n",
       "                         'min_samples_split': [1, 2, 3, 4, 5],\n",
       "                         'n_estimators': [1400, 1500, 1600, 1700, 1800]},\n",
       "             verbose=2)"
      ]
     },
     "execution_count": 121,
     "metadata": {},
     "output_type": "execute_result"
    }
   ],
   "source": [
    "#### Fit the grid_search to the data\n",
    "\n",
    "grid_search=GridSearchCV(estimator=RFR_model,param_grid=param_grid,cv=10,n_jobs=-1,verbose=2)\n",
    "grid_search.fit(x_train,y_train)"
   ]
  },
  {
   "cell_type": "code",
   "execution_count": 122,
   "id": "f427757a",
   "metadata": {},
   "outputs": [
    {
     "data": {
      "text/plain": [
       "RandomForestRegressor(max_depth=445, n_estimators=1500)"
      ]
     },
     "execution_count": 122,
     "metadata": {},
     "output_type": "execute_result"
    }
   ],
   "source": [
    "grid_search.best_estimator_"
   ]
  },
  {
   "cell_type": "code",
   "execution_count": 123,
   "id": "8099e12a",
   "metadata": {},
   "outputs": [
    {
     "data": {
      "text/plain": [
       "{'max_depth': 445,\n",
       " 'max_features': 'auto',\n",
       " 'min_samples_leaf': 1,\n",
       " 'min_samples_split': 2,\n",
       " 'n_estimators': 1500}"
      ]
     },
     "execution_count": 123,
     "metadata": {},
     "output_type": "execute_result"
    }
   ],
   "source": [
    "grid_search.best_params_"
   ]
  },
  {
   "cell_type": "code",
   "execution_count": 124,
   "id": "eaa2795c",
   "metadata": {},
   "outputs": [],
   "source": [
    "grid_predict=grid_search.best_estimator_.predict(x_test)"
   ]
  },
  {
   "cell_type": "code",
   "execution_count": 125,
   "id": "a89b1f5c",
   "metadata": {},
   "outputs": [
    {
     "name": "stdout",
     "output_type": "stream",
     "text": [
      "mean_square_error of model 0.38869956377776294\n",
      "R2 Score of model 98.40449073036494\n"
     ]
    }
   ],
   "source": [
    "print('mean_square_error of model' , mean_squared_error(y_test,grid_predict))\n",
    "print('R2 Score of model', r2_score(y_test,grid_predict )*100)"
   ]
  },
  {
   "cell_type": "code",
   "execution_count": null,
   "id": "e71559d5",
   "metadata": {},
   "outputs": [],
   "source": [
    "# WHile Grid Search CV result is:\n",
    "\n",
    "#mean_square_error of GrieSearchCV model 0.39582877436221164\n",
    "# R2 Score of Grid Search CV model 98.37522719978075"
   ]
  },
  {
   "cell_type": "code",
   "execution_count": 126,
   "id": "785c2faa",
   "metadata": {},
   "outputs": [],
   "source": [
    "import joblib"
   ]
  },
  {
   "cell_type": "code",
   "execution_count": 127,
   "id": "45cf1983",
   "metadata": {},
   "outputs": [
    {
     "data": {
      "text/plain": [
       "['Advertising.pkl']"
      ]
     },
     "execution_count": 127,
     "metadata": {},
     "output_type": "execute_result"
    }
   ],
   "source": [
    "joblib.dump(randomCV.best_estimator_,'Advertising.pkl')"
   ]
  },
  {
   "cell_type": "code",
   "execution_count": null,
   "id": "a7f6adfd",
   "metadata": {},
   "outputs": [],
   "source": []
  }
 ],
 "metadata": {
  "kernelspec": {
   "display_name": "Python 3 (ipykernel)",
   "language": "python",
   "name": "python3"
  },
  "language_info": {
   "codemirror_mode": {
    "name": "ipython",
    "version": 3
   },
   "file_extension": ".py",
   "mimetype": "text/x-python",
   "name": "python",
   "nbconvert_exporter": "python",
   "pygments_lexer": "ipython3",
   "version": "3.9.12"
  }
 },
 "nbformat": 4,
 "nbformat_minor": 5
}
